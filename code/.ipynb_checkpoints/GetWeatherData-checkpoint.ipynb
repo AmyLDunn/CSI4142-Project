{
 "cells": [
  {
   "cell_type": "code",
   "execution_count": 1,
   "id": "b63841ce",
   "metadata": {},
   "outputs": [],
   "source": [
    "import pandas as pd\n",
    "import numpy as np"
   ]
  },
  {
   "cell_type": "code",
   "execution_count": 2,
   "id": "c87681ed",
   "metadata": {},
   "outputs": [],
   "source": [
    "import meteostat\n",
    "from meteostat import Hourly, Stations, Point\n",
    "from datetime import datetime, timedelta"
   ]
  },
  {
   "cell_type": "code",
   "execution_count": 3,
   "id": "5f7927ae",
   "metadata": {},
   "outputs": [],
   "source": [
    "df = pd.read_csv(\"../raw_data/fire_incidents_data.csv\")"
   ]
  },
  {
   "cell_type": "code",
   "execution_count": 4,
   "id": "1e1843a9",
   "metadata": {},
   "outputs": [],
   "source": [
    "td = timedelta(minutes = 30)"
   ]
  },
  {
   "cell_type": "code",
   "execution_count": 5,
   "id": "8417da99",
   "metadata": {},
   "outputs": [
    {
     "data": {
      "text/html": [
       "<div>\n",
       "<style scoped>\n",
       "    .dataframe tbody tr th:only-of-type {\n",
       "        vertical-align: middle;\n",
       "    }\n",
       "\n",
       "    .dataframe tbody tr th {\n",
       "        vertical-align: top;\n",
       "    }\n",
       "\n",
       "    .dataframe thead th {\n",
       "        text-align: right;\n",
       "    }\n",
       "</style>\n",
       "<table border=\"1\" class=\"dataframe\">\n",
       "  <thead>\n",
       "    <tr style=\"text-align: right;\">\n",
       "      <th></th>\n",
       "      <th>TFS_Alarm_Time</th>\n",
       "      <th>Latitude</th>\n",
       "    </tr>\n",
       "  </thead>\n",
       "  <tbody>\n",
       "    <tr>\n",
       "      <th>0</th>\n",
       "      <td>2018-02-24T21:04:29</td>\n",
       "      <td>43.686558</td>\n",
       "    </tr>\n",
       "    <tr>\n",
       "      <th>1</th>\n",
       "      <td>2018-02-24T21:24:43</td>\n",
       "      <td>43.766135</td>\n",
       "    </tr>\n",
       "    <tr>\n",
       "      <th>2</th>\n",
       "      <td>2018-02-25T13:29:59</td>\n",
       "      <td>43.743230</td>\n",
       "    </tr>\n",
       "    <tr>\n",
       "      <th>3</th>\n",
       "      <td>2018-02-25T14:13:39</td>\n",
       "      <td>43.708659</td>\n",
       "    </tr>\n",
       "    <tr>\n",
       "      <th>4</th>\n",
       "      <td>2018-02-25T18:20:43</td>\n",
       "      <td>43.718118</td>\n",
       "    </tr>\n",
       "  </tbody>\n",
       "</table>\n",
       "</div>"
      ],
      "text/plain": [
       "        TFS_Alarm_Time   Latitude\n",
       "0  2018-02-24T21:04:29  43.686558\n",
       "1  2018-02-24T21:24:43  43.766135\n",
       "2  2018-02-25T13:29:59  43.743230\n",
       "3  2018-02-25T14:13:39  43.708659\n",
       "4  2018-02-25T18:20:43  43.718118"
      ]
     },
     "metadata": {},
     "output_type": "display_data"
    },
    {
     "name": "stdout",
     "output_type": "stream",
     "text": [
      "25860\n"
     ]
    }
   ],
   "source": [
    "location = pd.merge(df[\"TFS_Alarm_Time\"],df[\"Latitude\"], right_index = True,\n",
    "               left_index = True)\n",
    "display(location.head())\n",
    "print(len(location))"
   ]
  },
  {
   "cell_type": "code",
   "execution_count": 6,
   "id": "aad1fc6f",
   "metadata": {},
   "outputs": [
    {
     "data": {
      "text/html": [
       "<div>\n",
       "<style scoped>\n",
       "    .dataframe tbody tr th:only-of-type {\n",
       "        vertical-align: middle;\n",
       "    }\n",
       "\n",
       "    .dataframe tbody tr th {\n",
       "        vertical-align: top;\n",
       "    }\n",
       "\n",
       "    .dataframe thead th {\n",
       "        text-align: right;\n",
       "    }\n",
       "</style>\n",
       "<table border=\"1\" class=\"dataframe\">\n",
       "  <thead>\n",
       "    <tr style=\"text-align: right;\">\n",
       "      <th></th>\n",
       "      <th>TFS_Alarm_Time</th>\n",
       "      <th>Latitude</th>\n",
       "      <th>Longitude</th>\n",
       "    </tr>\n",
       "  </thead>\n",
       "  <tbody>\n",
       "    <tr>\n",
       "      <th>0</th>\n",
       "      <td>2018-02-24T21:04:29</td>\n",
       "      <td>43.686558</td>\n",
       "      <td>-79.599419</td>\n",
       "    </tr>\n",
       "    <tr>\n",
       "      <th>1</th>\n",
       "      <td>2018-02-24T21:24:43</td>\n",
       "      <td>43.766135</td>\n",
       "      <td>-79.390039</td>\n",
       "    </tr>\n",
       "    <tr>\n",
       "      <th>2</th>\n",
       "      <td>2018-02-25T13:29:59</td>\n",
       "      <td>43.743230</td>\n",
       "      <td>-79.245061</td>\n",
       "    </tr>\n",
       "    <tr>\n",
       "      <th>3</th>\n",
       "      <td>2018-02-25T14:13:39</td>\n",
       "      <td>43.708659</td>\n",
       "      <td>-79.478062</td>\n",
       "    </tr>\n",
       "    <tr>\n",
       "      <th>4</th>\n",
       "      <td>2018-02-25T18:20:43</td>\n",
       "      <td>43.718118</td>\n",
       "      <td>-79.443184</td>\n",
       "    </tr>\n",
       "  </tbody>\n",
       "</table>\n",
       "</div>"
      ],
      "text/plain": [
       "        TFS_Alarm_Time   Latitude  Longitude\n",
       "0  2018-02-24T21:04:29  43.686558 -79.599419\n",
       "1  2018-02-24T21:24:43  43.766135 -79.390039\n",
       "2  2018-02-25T13:29:59  43.743230 -79.245061\n",
       "3  2018-02-25T14:13:39  43.708659 -79.478062\n",
       "4  2018-02-25T18:20:43  43.718118 -79.443184"
      ]
     },
     "metadata": {},
     "output_type": "display_data"
    }
   ],
   "source": [
    "dfDim = pd.concat([location, df[\"Longitude\"]], axis = 1)\n",
    "display(dfDim.head())"
   ]
  },
  {
   "cell_type": "code",
   "execution_count": 7,
   "id": "b44cca41",
   "metadata": {},
   "outputs": [
    {
     "data": {
      "text/html": [
       "<div>\n",
       "<style scoped>\n",
       "    .dataframe tbody tr th:only-of-type {\n",
       "        vertical-align: middle;\n",
       "    }\n",
       "\n",
       "    .dataframe tbody tr th {\n",
       "        vertical-align: top;\n",
       "    }\n",
       "\n",
       "    .dataframe thead th {\n",
       "        text-align: right;\n",
       "    }\n",
       "</style>\n",
       "<table border=\"1\" class=\"dataframe\">\n",
       "  <thead>\n",
       "    <tr style=\"text-align: right;\">\n",
       "      <th></th>\n",
       "      <th>TFS_Alarm_Time</th>\n",
       "      <th>Latitude</th>\n",
       "      <th>Longitude</th>\n",
       "    </tr>\n",
       "  </thead>\n",
       "  <tbody>\n",
       "    <tr>\n",
       "      <th>0</th>\n",
       "      <td>2018-02-24T21:04:29</td>\n",
       "      <td>43.686558</td>\n",
       "      <td>-79.599419</td>\n",
       "    </tr>\n",
       "    <tr>\n",
       "      <th>1</th>\n",
       "      <td>2018-02-24T21:24:43</td>\n",
       "      <td>43.766135</td>\n",
       "      <td>-79.390039</td>\n",
       "    </tr>\n",
       "    <tr>\n",
       "      <th>2</th>\n",
       "      <td>2018-02-25T13:29:59</td>\n",
       "      <td>43.743230</td>\n",
       "      <td>-79.245061</td>\n",
       "    </tr>\n",
       "    <tr>\n",
       "      <th>3</th>\n",
       "      <td>2018-02-25T14:13:39</td>\n",
       "      <td>43.708659</td>\n",
       "      <td>-79.478062</td>\n",
       "    </tr>\n",
       "    <tr>\n",
       "      <th>4</th>\n",
       "      <td>2018-02-25T18:20:43</td>\n",
       "      <td>43.718118</td>\n",
       "      <td>-79.443184</td>\n",
       "    </tr>\n",
       "  </tbody>\n",
       "</table>\n",
       "</div>"
      ],
      "text/plain": [
       "        TFS_Alarm_Time   Latitude  Longitude\n",
       "0  2018-02-24T21:04:29  43.686558 -79.599419\n",
       "1  2018-02-24T21:24:43  43.766135 -79.390039\n",
       "2  2018-02-25T13:29:59  43.743230 -79.245061\n",
       "3  2018-02-25T14:13:39  43.708659 -79.478062\n",
       "4  2018-02-25T18:20:43  43.718118 -79.443184"
      ]
     },
     "metadata": {},
     "output_type": "display_data"
    },
    {
     "name": "stdout",
     "output_type": "stream",
     "text": [
      "25858\n"
     ]
    }
   ],
   "source": [
    "dfDim = dfDim.dropna()\n",
    "display(dfDim.head())\n",
    "print(len(dfDim))"
   ]
  },
  {
   "cell_type": "code",
   "execution_count": 8,
   "id": "d03754e1",
   "metadata": {
    "scrolled": true
   },
   "outputs": [
    {
     "data": {
      "text/plain": [
       "0    20180224210429\n",
       "1    20180224212443\n",
       "2    20180225132959\n",
       "3    20180225141339\n",
       "4    20180225182043\n",
       "Name: TFS_Alarm_Time, dtype: object"
      ]
     },
     "metadata": {},
     "output_type": "display_data"
    }
   ],
   "source": [
    "timeKey = dfDim[\"TFS_Alarm_Time\"]\n",
    "timeKey = timeKey.apply(lambda x: str(x))\n",
    "timeKey = timeKey.apply(lambda x:x.replace(\"-\", \"\"))\n",
    "timeKey = timeKey.apply(lambda x:x.replace(\":\", \"\"))\n",
    "timeKey = timeKey.apply(lambda x:x.replace(\" \", \"\"))\n",
    "timeKey = timeKey.apply(lambda x:x.replace(\"T\", \"\"))\n",
    "display(timeKey.head())"
   ]
  },
  {
   "cell_type": "code",
   "execution_count": 9,
   "id": "47255fa9",
   "metadata": {},
   "outputs": [
    {
     "data": {
      "text/plain": [
       "0    43.686558\n",
       "1    43.766135\n",
       "2    43.743230\n",
       "3    43.708659\n",
       "4    43.718118\n",
       "Name: Latitude, dtype: float64"
      ]
     },
     "metadata": {},
     "output_type": "display_data"
    },
    {
     "name": "stdout",
     "output_type": "stream",
     "text": [
      "25858\n"
     ]
    }
   ],
   "source": [
    "latKey = dfDim[\"Latitude\"]\n",
    "longKey = dfDim[\"Longitude\"]\n",
    "display(latKey.head())\n",
    "print(len(latKey))"
   ]
  },
  {
   "cell_type": "code",
   "execution_count": 10,
   "id": "c53d43d6",
   "metadata": {
    "scrolled": false
   },
   "outputs": [
    {
     "data": {
      "text/plain": [
       "0    0.686558\n",
       "1    0.766135\n",
       "2    0.743230\n",
       "3    0.708659\n",
       "4    0.718118\n",
       "Name: Latitude, dtype: float64"
      ]
     },
     "metadata": {},
     "output_type": "display_data"
    }
   ],
   "source": [
    "latKey = latKey.apply(lambda x: x-43)\n",
    "display(latKey.head())"
   ]
  },
  {
   "cell_type": "code",
   "execution_count": 11,
   "id": "2d5677d8",
   "metadata": {},
   "outputs": [
    {
     "data": {
      "text/plain": [
       "0    6865.58177\n",
       "1    7661.34782\n",
       "2    7432.30192\n",
       "3    7086.59308\n",
       "4    7181.18427\n",
       "Name: Latitude, dtype: float64"
      ]
     },
     "metadata": {},
     "output_type": "display_data"
    }
   ],
   "source": [
    "latKey = latKey.apply(lambda x:x*10000)\n",
    "display(latKey.head())"
   ]
  },
  {
   "cell_type": "code",
   "execution_count": 12,
   "id": "8a01d7e2",
   "metadata": {
    "scrolled": true
   },
   "outputs": [
    {
     "data": {
      "text/plain": [
       "0    6865\n",
       "1    7661\n",
       "2    7432\n",
       "3    7086\n",
       "4    7181\n",
       "Name: Latitude, dtype: int64"
      ]
     },
     "metadata": {},
     "output_type": "display_data"
    }
   ],
   "source": [
    "latKey = latKey.apply(lambda x: int(x))\n",
    "display(latKey.head())"
   ]
  },
  {
   "cell_type": "code",
   "execution_count": 13,
   "id": "accf7dc7",
   "metadata": {},
   "outputs": [
    {
     "data": {
      "text/plain": [
       "0   -79.599419\n",
       "1   -79.390039\n",
       "2   -79.245061\n",
       "3   -79.478062\n",
       "4   -79.443184\n",
       "Name: Longitude, dtype: float64"
      ]
     },
     "metadata": {},
     "output_type": "display_data"
    }
   ],
   "source": [
    "display(longKey.head())"
   ]
  },
  {
   "cell_type": "code",
   "execution_count": 14,
   "id": "ecc820c5",
   "metadata": {},
   "outputs": [
    {
     "data": {
      "text/plain": [
       "0   -0.599419\n",
       "1   -0.390039\n",
       "2   -0.245061\n",
       "3   -0.478062\n",
       "4   -0.443184\n",
       "Name: Longitude, dtype: float64"
      ]
     },
     "metadata": {},
     "output_type": "display_data"
    }
   ],
   "source": [
    "longKey = longKey.apply(lambda x:x+79)\n",
    "display(longKey.head())"
   ]
  },
  {
   "cell_type": "code",
   "execution_count": 15,
   "id": "e83a81ec",
   "metadata": {},
   "outputs": [
    {
     "data": {
      "text/plain": [
       "0    0.599419\n",
       "1    0.390039\n",
       "2    0.245061\n",
       "3    0.478062\n",
       "4    0.443184\n",
       "Name: Longitude, dtype: float64"
      ]
     },
     "metadata": {},
     "output_type": "display_data"
    }
   ],
   "source": [
    "longKey = longKey.apply(lambda x:abs(x))\n",
    "display(longKey.head())"
   ]
  },
  {
   "cell_type": "code",
   "execution_count": 16,
   "id": "790907f2",
   "metadata": {},
   "outputs": [
    {
     "data": {
      "text/plain": [
       "0    5994\n",
       "1    3900\n",
       "2    2450\n",
       "3    4780\n",
       "4    4431\n",
       "Name: Longitude, dtype: int64"
      ]
     },
     "metadata": {},
     "output_type": "display_data"
    }
   ],
   "source": [
    "longKey = longKey.apply(lambda x:x*10000)\n",
    "longKey = longKey.apply(lambda x:int(x))\n",
    "display(longKey.head())"
   ]
  },
  {
   "cell_type": "code",
   "execution_count": 17,
   "id": "79b65a55",
   "metadata": {},
   "outputs": [
    {
     "name": "stdout",
     "output_type": "stream",
     "text": [
      "<class 'str'>\n"
     ]
    }
   ],
   "source": [
    "longKey = longKey.apply(lambda x: str(x))\n",
    "latKey = latKey.apply(lambda x: str(x))\n",
    "print(type(latKey[0]))"
   ]
  },
  {
   "cell_type": "code",
   "execution_count": 18,
   "id": "29c82be4",
   "metadata": {
    "scrolled": true
   },
   "outputs": [
    {
     "data": {
      "text/html": [
       "<div>\n",
       "<style scoped>\n",
       "    .dataframe tbody tr th:only-of-type {\n",
       "        vertical-align: middle;\n",
       "    }\n",
       "\n",
       "    .dataframe tbody tr th {\n",
       "        vertical-align: top;\n",
       "    }\n",
       "\n",
       "    .dataframe thead th {\n",
       "        text-align: right;\n",
       "    }\n",
       "</style>\n",
       "<table border=\"1\" class=\"dataframe\">\n",
       "  <thead>\n",
       "    <tr style=\"text-align: right;\">\n",
       "      <th></th>\n",
       "      <th>TFS_Alarm_Time</th>\n",
       "      <th>Latitude</th>\n",
       "      <th>Longitude</th>\n",
       "    </tr>\n",
       "  </thead>\n",
       "  <tbody>\n",
       "    <tr>\n",
       "      <th>0</th>\n",
       "      <td>20180224210429</td>\n",
       "      <td>6865</td>\n",
       "      <td>5994</td>\n",
       "    </tr>\n",
       "    <tr>\n",
       "      <th>1</th>\n",
       "      <td>20180224212443</td>\n",
       "      <td>7661</td>\n",
       "      <td>3900</td>\n",
       "    </tr>\n",
       "    <tr>\n",
       "      <th>2</th>\n",
       "      <td>20180225132959</td>\n",
       "      <td>7432</td>\n",
       "      <td>2450</td>\n",
       "    </tr>\n",
       "    <tr>\n",
       "      <th>3</th>\n",
       "      <td>20180225141339</td>\n",
       "      <td>7086</td>\n",
       "      <td>4780</td>\n",
       "    </tr>\n",
       "    <tr>\n",
       "      <th>4</th>\n",
       "      <td>20180225182043</td>\n",
       "      <td>7181</td>\n",
       "      <td>4431</td>\n",
       "    </tr>\n",
       "  </tbody>\n",
       "</table>\n",
       "</div>"
      ],
      "text/plain": [
       "   TFS_Alarm_Time Latitude Longitude\n",
       "0  20180224210429     6865      5994\n",
       "1  20180224212443     7661      3900\n",
       "2  20180225132959     7432      2450\n",
       "3  20180225141339     7086      4780\n",
       "4  20180225182043     7181      4431"
      ]
     },
     "metadata": {},
     "output_type": "display_data"
    }
   ],
   "source": [
    "weatherKey = pd.concat([timeKey, latKey, longKey], axis = 1)\n",
    "display(weatherKey.head())"
   ]
  },
  {
   "cell_type": "code",
   "execution_count": 19,
   "id": "38acd866",
   "metadata": {
    "scrolled": false
   },
   "outputs": [
    {
     "data": {
      "text/html": [
       "<div>\n",
       "<style scoped>\n",
       "    .dataframe tbody tr th:only-of-type {\n",
       "        vertical-align: middle;\n",
       "    }\n",
       "\n",
       "    .dataframe tbody tr th {\n",
       "        vertical-align: top;\n",
       "    }\n",
       "\n",
       "    .dataframe thead th {\n",
       "        text-align: right;\n",
       "    }\n",
       "</style>\n",
       "<table border=\"1\" class=\"dataframe\">\n",
       "  <thead>\n",
       "    <tr style=\"text-align: right;\">\n",
       "      <th></th>\n",
       "      <th>TFS_Alarm_Time</th>\n",
       "      <th>Latitude</th>\n",
       "      <th>Longitude</th>\n",
       "      <th>Key</th>\n",
       "    </tr>\n",
       "  </thead>\n",
       "  <tbody>\n",
       "    <tr>\n",
       "      <th>0</th>\n",
       "      <td>20180224210429</td>\n",
       "      <td>6865</td>\n",
       "      <td>5994</td>\n",
       "      <td>2018022421042968655994</td>\n",
       "    </tr>\n",
       "    <tr>\n",
       "      <th>1</th>\n",
       "      <td>20180224212443</td>\n",
       "      <td>7661</td>\n",
       "      <td>3900</td>\n",
       "      <td>2018022421244376613900</td>\n",
       "    </tr>\n",
       "    <tr>\n",
       "      <th>2</th>\n",
       "      <td>20180225132959</td>\n",
       "      <td>7432</td>\n",
       "      <td>2450</td>\n",
       "      <td>2018022513295974322450</td>\n",
       "    </tr>\n",
       "    <tr>\n",
       "      <th>3</th>\n",
       "      <td>20180225141339</td>\n",
       "      <td>7086</td>\n",
       "      <td>4780</td>\n",
       "      <td>2018022514133970864780</td>\n",
       "    </tr>\n",
       "    <tr>\n",
       "      <th>4</th>\n",
       "      <td>20180225182043</td>\n",
       "      <td>7181</td>\n",
       "      <td>4431</td>\n",
       "      <td>2018022518204371814431</td>\n",
       "    </tr>\n",
       "  </tbody>\n",
       "</table>\n",
       "</div>"
      ],
      "text/plain": [
       "   TFS_Alarm_Time Latitude Longitude                     Key\n",
       "0  20180224210429     6865      5994  2018022421042968655994\n",
       "1  20180224212443     7661      3900  2018022421244376613900\n",
       "2  20180225132959     7432      2450  2018022513295974322450\n",
       "3  20180225141339     7086      4780  2018022514133970864780\n",
       "4  20180225182043     7181      4431  2018022518204371814431"
      ]
     },
     "metadata": {},
     "output_type": "display_data"
    }
   ],
   "source": [
    "weatherKey[\"Key\"] = weatherKey.apply(lambda x:x[\"TFS_Alarm_Time\"]+x[\"Latitude\"]+x[\"Longitude\"], axis = 1)\n",
    "display(weatherKey.head())"
   ]
  },
  {
   "cell_type": "code",
   "execution_count": 20,
   "id": "1cad1da4",
   "metadata": {
    "scrolled": true
   },
   "outputs": [
    {
     "data": {
      "text/html": [
       "<div>\n",
       "<style scoped>\n",
       "    .dataframe tbody tr th:only-of-type {\n",
       "        vertical-align: middle;\n",
       "    }\n",
       "\n",
       "    .dataframe tbody tr th {\n",
       "        vertical-align: top;\n",
       "    }\n",
       "\n",
       "    .dataframe thead th {\n",
       "        text-align: right;\n",
       "    }\n",
       "</style>\n",
       "<table border=\"1\" class=\"dataframe\">\n",
       "  <thead>\n",
       "    <tr style=\"text-align: right;\">\n",
       "      <th></th>\n",
       "      <th>Key</th>\n",
       "    </tr>\n",
       "  </thead>\n",
       "  <tbody>\n",
       "    <tr>\n",
       "      <th>0</th>\n",
       "      <td>2018022421042968655994</td>\n",
       "    </tr>\n",
       "    <tr>\n",
       "      <th>1</th>\n",
       "      <td>2018022421244376613900</td>\n",
       "    </tr>\n",
       "    <tr>\n",
       "      <th>2</th>\n",
       "      <td>2018022513295974322450</td>\n",
       "    </tr>\n",
       "    <tr>\n",
       "      <th>3</th>\n",
       "      <td>2018022514133970864780</td>\n",
       "    </tr>\n",
       "    <tr>\n",
       "      <th>4</th>\n",
       "      <td>2018022518204371814431</td>\n",
       "    </tr>\n",
       "  </tbody>\n",
       "</table>\n",
       "</div>"
      ],
      "text/plain": [
       "                      Key\n",
       "0  2018022421042968655994\n",
       "1  2018022421244376613900\n",
       "2  2018022513295974322450\n",
       "3  2018022514133970864780\n",
       "4  2018022518204371814431"
      ]
     },
     "metadata": {},
     "output_type": "display_data"
    }
   ],
   "source": [
    "weatherKey = weatherKey[[\"Key\"]]\n",
    "display(weatherKey.head())"
   ]
  },
  {
   "cell_type": "code",
   "execution_count": 21,
   "id": "6c381524",
   "metadata": {},
   "outputs": [
    {
     "data": {
      "text/html": [
       "<div>\n",
       "<style scoped>\n",
       "    .dataframe tbody tr th:only-of-type {\n",
       "        vertical-align: middle;\n",
       "    }\n",
       "\n",
       "    .dataframe tbody tr th {\n",
       "        vertical-align: top;\n",
       "    }\n",
       "\n",
       "    .dataframe thead th {\n",
       "        text-align: right;\n",
       "    }\n",
       "</style>\n",
       "<table border=\"1\" class=\"dataframe\">\n",
       "  <thead>\n",
       "    <tr style=\"text-align: right;\">\n",
       "      <th></th>\n",
       "      <th>Key</th>\n",
       "      <th>TFS_Alarm_Time</th>\n",
       "      <th>Latitude</th>\n",
       "      <th>Longitude</th>\n",
       "    </tr>\n",
       "  </thead>\n",
       "  <tbody>\n",
       "    <tr>\n",
       "      <th>0</th>\n",
       "      <td>2018022421042968655994</td>\n",
       "      <td>2018-02-24T21:04:29</td>\n",
       "      <td>43.686558</td>\n",
       "      <td>-79.599419</td>\n",
       "    </tr>\n",
       "    <tr>\n",
       "      <th>1</th>\n",
       "      <td>2018022421244376613900</td>\n",
       "      <td>2018-02-24T21:24:43</td>\n",
       "      <td>43.766135</td>\n",
       "      <td>-79.390039</td>\n",
       "    </tr>\n",
       "    <tr>\n",
       "      <th>2</th>\n",
       "      <td>2018022513295974322450</td>\n",
       "      <td>2018-02-25T13:29:59</td>\n",
       "      <td>43.743230</td>\n",
       "      <td>-79.245061</td>\n",
       "    </tr>\n",
       "    <tr>\n",
       "      <th>3</th>\n",
       "      <td>2018022514133970864780</td>\n",
       "      <td>2018-02-25T14:13:39</td>\n",
       "      <td>43.708659</td>\n",
       "      <td>-79.478062</td>\n",
       "    </tr>\n",
       "    <tr>\n",
       "      <th>4</th>\n",
       "      <td>2018022518204371814431</td>\n",
       "      <td>2018-02-25T18:20:43</td>\n",
       "      <td>43.718118</td>\n",
       "      <td>-79.443184</td>\n",
       "    </tr>\n",
       "  </tbody>\n",
       "</table>\n",
       "</div>"
      ],
      "text/plain": [
       "                      Key       TFS_Alarm_Time   Latitude  Longitude\n",
       "0  2018022421042968655994  2018-02-24T21:04:29  43.686558 -79.599419\n",
       "1  2018022421244376613900  2018-02-24T21:24:43  43.766135 -79.390039\n",
       "2  2018022513295974322450  2018-02-25T13:29:59  43.743230 -79.245061\n",
       "3  2018022514133970864780  2018-02-25T14:13:39  43.708659 -79.478062\n",
       "4  2018022518204371814431  2018-02-25T18:20:43  43.718118 -79.443184"
      ]
     },
     "metadata": {},
     "output_type": "display_data"
    }
   ],
   "source": [
    "weatherData = pd.concat([weatherKey, dfDim], axis = 1)\n",
    "display(weatherData.head())"
   ]
  },
  {
   "cell_type": "code",
   "execution_count": 22,
   "id": "17693381",
   "metadata": {
    "scrolled": true
   },
   "outputs": [
    {
     "name": "stdout",
     "output_type": "stream",
     "text": [
      "<class 'str'>\n"
     ]
    }
   ],
   "source": [
    "print(type(weatherData[\"TFS_Alarm_Time\"][0]))"
   ]
  },
  {
   "cell_type": "code",
   "execution_count": 23,
   "id": "04bf3a92",
   "metadata": {
    "scrolled": false
   },
   "outputs": [
    {
     "data": {
      "text/html": [
       "<div>\n",
       "<style scoped>\n",
       "    .dataframe tbody tr th:only-of-type {\n",
       "        vertical-align: middle;\n",
       "    }\n",
       "\n",
       "    .dataframe tbody tr th {\n",
       "        vertical-align: top;\n",
       "    }\n",
       "\n",
       "    .dataframe thead th {\n",
       "        text-align: right;\n",
       "    }\n",
       "</style>\n",
       "<table border=\"1\" class=\"dataframe\">\n",
       "  <thead>\n",
       "    <tr style=\"text-align: right;\">\n",
       "      <th></th>\n",
       "      <th>Key</th>\n",
       "      <th>TFS_Alarm_Time</th>\n",
       "      <th>Latitude</th>\n",
       "      <th>Longitude</th>\n",
       "    </tr>\n",
       "  </thead>\n",
       "  <tbody>\n",
       "    <tr>\n",
       "      <th>0</th>\n",
       "      <td>2018022421042968655994</td>\n",
       "      <td>2018-02-24 21:04:29</td>\n",
       "      <td>43.686558</td>\n",
       "      <td>-79.599419</td>\n",
       "    </tr>\n",
       "    <tr>\n",
       "      <th>1</th>\n",
       "      <td>2018022421244376613900</td>\n",
       "      <td>2018-02-24 21:24:43</td>\n",
       "      <td>43.766135</td>\n",
       "      <td>-79.390039</td>\n",
       "    </tr>\n",
       "    <tr>\n",
       "      <th>2</th>\n",
       "      <td>2018022513295974322450</td>\n",
       "      <td>2018-02-25 13:29:59</td>\n",
       "      <td>43.743230</td>\n",
       "      <td>-79.245061</td>\n",
       "    </tr>\n",
       "    <tr>\n",
       "      <th>3</th>\n",
       "      <td>2018022514133970864780</td>\n",
       "      <td>2018-02-25 14:13:39</td>\n",
       "      <td>43.708659</td>\n",
       "      <td>-79.478062</td>\n",
       "    </tr>\n",
       "    <tr>\n",
       "      <th>4</th>\n",
       "      <td>2018022518204371814431</td>\n",
       "      <td>2018-02-25 18:20:43</td>\n",
       "      <td>43.718118</td>\n",
       "      <td>-79.443184</td>\n",
       "    </tr>\n",
       "  </tbody>\n",
       "</table>\n",
       "</div>"
      ],
      "text/plain": [
       "                      Key      TFS_Alarm_Time   Latitude  Longitude\n",
       "0  2018022421042968655994 2018-02-24 21:04:29  43.686558 -79.599419\n",
       "1  2018022421244376613900 2018-02-24 21:24:43  43.766135 -79.390039\n",
       "2  2018022513295974322450 2018-02-25 13:29:59  43.743230 -79.245061\n",
       "3  2018022514133970864780 2018-02-25 14:13:39  43.708659 -79.478062\n",
       "4  2018022518204371814431 2018-02-25 18:20:43  43.718118 -79.443184"
      ]
     },
     "metadata": {},
     "output_type": "display_data"
    },
    {
     "name": "stdout",
     "output_type": "stream",
     "text": [
      "<class 'pandas._libs.tslibs.timestamps.Timestamp'>\n"
     ]
    }
   ],
   "source": [
    "weatherData[\"TFS_Alarm_Time\"] = weatherData[\"TFS_Alarm_Time\"].apply(lambda x:datetime.strptime(x, '%Y-%m-%dT%H:%M:%S'))\n",
    "display(weatherData.head())\n",
    "print(type(weatherData[\"TFS_Alarm_Time\"][0]))"
   ]
  },
  {
   "cell_type": "code",
   "execution_count": 24,
   "id": "abd82d31",
   "metadata": {
    "scrolled": true
   },
   "outputs": [
    {
     "data": {
      "text/html": [
       "<div>\n",
       "<style scoped>\n",
       "    .dataframe tbody tr th:only-of-type {\n",
       "        vertical-align: middle;\n",
       "    }\n",
       "\n",
       "    .dataframe tbody tr th {\n",
       "        vertical-align: top;\n",
       "    }\n",
       "\n",
       "    .dataframe thead th {\n",
       "        text-align: right;\n",
       "    }\n",
       "</style>\n",
       "<table border=\"1\" class=\"dataframe\">\n",
       "  <thead>\n",
       "    <tr style=\"text-align: right;\">\n",
       "      <th></th>\n",
       "      <th>Key</th>\n",
       "      <th>TFS_Alarm_Time</th>\n",
       "      <th>Latitude</th>\n",
       "      <th>Longitude</th>\n",
       "      <th>StartTime</th>\n",
       "    </tr>\n",
       "  </thead>\n",
       "  <tbody>\n",
       "    <tr>\n",
       "      <th>0</th>\n",
       "      <td>2018022421042968655994</td>\n",
       "      <td>2018-02-24 21:04:29</td>\n",
       "      <td>43.686558</td>\n",
       "      <td>-79.599419</td>\n",
       "      <td>2018-02-24 20:34:29</td>\n",
       "    </tr>\n",
       "    <tr>\n",
       "      <th>1</th>\n",
       "      <td>2018022421244376613900</td>\n",
       "      <td>2018-02-24 21:24:43</td>\n",
       "      <td>43.766135</td>\n",
       "      <td>-79.390039</td>\n",
       "      <td>2018-02-24 20:54:43</td>\n",
       "    </tr>\n",
       "    <tr>\n",
       "      <th>2</th>\n",
       "      <td>2018022513295974322450</td>\n",
       "      <td>2018-02-25 13:29:59</td>\n",
       "      <td>43.743230</td>\n",
       "      <td>-79.245061</td>\n",
       "      <td>2018-02-25 12:59:59</td>\n",
       "    </tr>\n",
       "    <tr>\n",
       "      <th>3</th>\n",
       "      <td>2018022514133970864780</td>\n",
       "      <td>2018-02-25 14:13:39</td>\n",
       "      <td>43.708659</td>\n",
       "      <td>-79.478062</td>\n",
       "      <td>2018-02-25 13:43:39</td>\n",
       "    </tr>\n",
       "    <tr>\n",
       "      <th>4</th>\n",
       "      <td>2018022518204371814431</td>\n",
       "      <td>2018-02-25 18:20:43</td>\n",
       "      <td>43.718118</td>\n",
       "      <td>-79.443184</td>\n",
       "      <td>2018-02-25 17:50:43</td>\n",
       "    </tr>\n",
       "  </tbody>\n",
       "</table>\n",
       "</div>"
      ],
      "text/plain": [
       "                      Key      TFS_Alarm_Time   Latitude  Longitude  \\\n",
       "0  2018022421042968655994 2018-02-24 21:04:29  43.686558 -79.599419   \n",
       "1  2018022421244376613900 2018-02-24 21:24:43  43.766135 -79.390039   \n",
       "2  2018022513295974322450 2018-02-25 13:29:59  43.743230 -79.245061   \n",
       "3  2018022514133970864780 2018-02-25 14:13:39  43.708659 -79.478062   \n",
       "4  2018022518204371814431 2018-02-25 18:20:43  43.718118 -79.443184   \n",
       "\n",
       "            StartTime  \n",
       "0 2018-02-24 20:34:29  \n",
       "1 2018-02-24 20:54:43  \n",
       "2 2018-02-25 12:59:59  \n",
       "3 2018-02-25 13:43:39  \n",
       "4 2018-02-25 17:50:43  "
      ]
     },
     "metadata": {},
     "output_type": "display_data"
    }
   ],
   "source": [
    "weatherData[\"StartTime\"] = weatherData[\"TFS_Alarm_Time\"].apply(lambda x:x-td)\n",
    "display(weatherData.head())"
   ]
  },
  {
   "cell_type": "code",
   "execution_count": 25,
   "id": "b169ef30",
   "metadata": {},
   "outputs": [
    {
     "data": {
      "text/html": [
       "<div>\n",
       "<style scoped>\n",
       "    .dataframe tbody tr th:only-of-type {\n",
       "        vertical-align: middle;\n",
       "    }\n",
       "\n",
       "    .dataframe tbody tr th {\n",
       "        vertical-align: top;\n",
       "    }\n",
       "\n",
       "    .dataframe thead th {\n",
       "        text-align: right;\n",
       "    }\n",
       "</style>\n",
       "<table border=\"1\" class=\"dataframe\">\n",
       "  <thead>\n",
       "    <tr style=\"text-align: right;\">\n",
       "      <th></th>\n",
       "      <th>Key</th>\n",
       "      <th>TFS_Alarm_Time</th>\n",
       "      <th>Latitude</th>\n",
       "      <th>Longitude</th>\n",
       "      <th>StartTime</th>\n",
       "      <th>EndTime</th>\n",
       "    </tr>\n",
       "  </thead>\n",
       "  <tbody>\n",
       "    <tr>\n",
       "      <th>0</th>\n",
       "      <td>2018022421042968655994</td>\n",
       "      <td>2018-02-24 21:04:29</td>\n",
       "      <td>43.686558</td>\n",
       "      <td>-79.599419</td>\n",
       "      <td>2018-02-24 20:34:29</td>\n",
       "      <td>2018-02-24 21:34:29</td>\n",
       "    </tr>\n",
       "    <tr>\n",
       "      <th>1</th>\n",
       "      <td>2018022421244376613900</td>\n",
       "      <td>2018-02-24 21:24:43</td>\n",
       "      <td>43.766135</td>\n",
       "      <td>-79.390039</td>\n",
       "      <td>2018-02-24 20:54:43</td>\n",
       "      <td>2018-02-24 21:54:43</td>\n",
       "    </tr>\n",
       "    <tr>\n",
       "      <th>2</th>\n",
       "      <td>2018022513295974322450</td>\n",
       "      <td>2018-02-25 13:29:59</td>\n",
       "      <td>43.743230</td>\n",
       "      <td>-79.245061</td>\n",
       "      <td>2018-02-25 12:59:59</td>\n",
       "      <td>2018-02-25 13:59:59</td>\n",
       "    </tr>\n",
       "    <tr>\n",
       "      <th>3</th>\n",
       "      <td>2018022514133970864780</td>\n",
       "      <td>2018-02-25 14:13:39</td>\n",
       "      <td>43.708659</td>\n",
       "      <td>-79.478062</td>\n",
       "      <td>2018-02-25 13:43:39</td>\n",
       "      <td>2018-02-25 14:43:39</td>\n",
       "    </tr>\n",
       "    <tr>\n",
       "      <th>4</th>\n",
       "      <td>2018022518204371814431</td>\n",
       "      <td>2018-02-25 18:20:43</td>\n",
       "      <td>43.718118</td>\n",
       "      <td>-79.443184</td>\n",
       "      <td>2018-02-25 17:50:43</td>\n",
       "      <td>2018-02-25 18:50:43</td>\n",
       "    </tr>\n",
       "  </tbody>\n",
       "</table>\n",
       "</div>"
      ],
      "text/plain": [
       "                      Key      TFS_Alarm_Time   Latitude  Longitude  \\\n",
       "0  2018022421042968655994 2018-02-24 21:04:29  43.686558 -79.599419   \n",
       "1  2018022421244376613900 2018-02-24 21:24:43  43.766135 -79.390039   \n",
       "2  2018022513295974322450 2018-02-25 13:29:59  43.743230 -79.245061   \n",
       "3  2018022514133970864780 2018-02-25 14:13:39  43.708659 -79.478062   \n",
       "4  2018022518204371814431 2018-02-25 18:20:43  43.718118 -79.443184   \n",
       "\n",
       "            StartTime             EndTime  \n",
       "0 2018-02-24 20:34:29 2018-02-24 21:34:29  \n",
       "1 2018-02-24 20:54:43 2018-02-24 21:54:43  \n",
       "2 2018-02-25 12:59:59 2018-02-25 13:59:59  \n",
       "3 2018-02-25 13:43:39 2018-02-25 14:43:39  \n",
       "4 2018-02-25 17:50:43 2018-02-25 18:50:43  "
      ]
     },
     "metadata": {},
     "output_type": "display_data"
    }
   ],
   "source": [
    "weatherData[\"EndTime\"] = weatherData[\"TFS_Alarm_Time\"].apply(lambda x:x+td)\n",
    "display(weatherData.head())"
   ]
  },
  {
   "cell_type": "code",
   "execution_count": 31,
   "id": "684bf6b5",
   "metadata": {
    "scrolled": true
   },
   "outputs": [
    {
     "data": {
      "text/plain": [
       "0    <meteostat.interface.point.Point object at 0x0...\n",
       "1    <meteostat.interface.point.Point object at 0x0...\n",
       "2    <meteostat.interface.point.Point object at 0x0...\n",
       "3    <meteostat.interface.point.Point object at 0x0...\n",
       "4    <meteostat.interface.point.Point object at 0x0...\n",
       "dtype: object"
      ]
     },
     "metadata": {},
     "output_type": "display_data"
    }
   ],
   "source": [
    "dfPoints = weatherData.apply(lambda x:meteostat.Point(x[\"Latitude\"], x[\"Longitude\"]), axis = 1)\n",
    "display(dfPoints.head())"
   ]
  },
  {
   "cell_type": "code",
   "execution_count": 34,
   "id": "54a9541b",
   "metadata": {},
   "outputs": [
    {
     "data": {
      "text/html": [
       "<div>\n",
       "<style scoped>\n",
       "    .dataframe tbody tr th:only-of-type {\n",
       "        vertical-align: middle;\n",
       "    }\n",
       "\n",
       "    .dataframe tbody tr th {\n",
       "        vertical-align: top;\n",
       "    }\n",
       "\n",
       "    .dataframe thead th {\n",
       "        text-align: right;\n",
       "    }\n",
       "</style>\n",
       "<table border=\"1\" class=\"dataframe\">\n",
       "  <thead>\n",
       "    <tr style=\"text-align: right;\">\n",
       "      <th></th>\n",
       "      <th>Points</th>\n",
       "      <th>StartTime</th>\n",
       "      <th>EndTime</th>\n",
       "    </tr>\n",
       "  </thead>\n",
       "  <tbody>\n",
       "    <tr>\n",
       "      <th>0</th>\n",
       "      <td>&lt;meteostat.interface.point.Point object at 0x0...</td>\n",
       "      <td>2018-02-24 20:34:29</td>\n",
       "      <td>2018-02-24 21:34:29</td>\n",
       "    </tr>\n",
       "    <tr>\n",
       "      <th>1</th>\n",
       "      <td>&lt;meteostat.interface.point.Point object at 0x0...</td>\n",
       "      <td>2018-02-24 20:54:43</td>\n",
       "      <td>2018-02-24 21:54:43</td>\n",
       "    </tr>\n",
       "    <tr>\n",
       "      <th>2</th>\n",
       "      <td>&lt;meteostat.interface.point.Point object at 0x0...</td>\n",
       "      <td>2018-02-25 12:59:59</td>\n",
       "      <td>2018-02-25 13:59:59</td>\n",
       "    </tr>\n",
       "    <tr>\n",
       "      <th>3</th>\n",
       "      <td>&lt;meteostat.interface.point.Point object at 0x0...</td>\n",
       "      <td>2018-02-25 13:43:39</td>\n",
       "      <td>2018-02-25 14:43:39</td>\n",
       "    </tr>\n",
       "    <tr>\n",
       "      <th>4</th>\n",
       "      <td>&lt;meteostat.interface.point.Point object at 0x0...</td>\n",
       "      <td>2018-02-25 17:50:43</td>\n",
       "      <td>2018-02-25 18:50:43</td>\n",
       "    </tr>\n",
       "  </tbody>\n",
       "</table>\n",
       "</div>"
      ],
      "text/plain": [
       "                                              Points           StartTime  \\\n",
       "0  <meteostat.interface.point.Point object at 0x0... 2018-02-24 20:34:29   \n",
       "1  <meteostat.interface.point.Point object at 0x0... 2018-02-24 20:54:43   \n",
       "2  <meteostat.interface.point.Point object at 0x0... 2018-02-25 12:59:59   \n",
       "3  <meteostat.interface.point.Point object at 0x0... 2018-02-25 13:43:39   \n",
       "4  <meteostat.interface.point.Point object at 0x0... 2018-02-25 17:50:43   \n",
       "\n",
       "              EndTime  \n",
       "0 2018-02-24 21:34:29  \n",
       "1 2018-02-24 21:54:43  \n",
       "2 2018-02-25 13:59:59  \n",
       "3 2018-02-25 14:43:39  \n",
       "4 2018-02-25 18:50:43  "
      ]
     },
     "metadata": {},
     "output_type": "display_data"
    }
   ],
   "source": [
    "dfHourlyData = pd.concat([dfPoints, weatherData[\"StartTime\"], weatherData[\"EndTime\"]], axis = 1)\n",
    "dfHourlyData = dfHourlyData.rename(columns = {0:\"Points\"})\n",
    "display(dfHourlyData.head())"
   ]
  },
  {
   "cell_type": "code",
   "execution_count": 35,
   "id": "24de6ac1",
   "metadata": {
    "scrolled": true
   },
   "outputs": [
    {
     "name": "stderr",
     "output_type": "stream",
     "text": [
      "Warning: Cannot load hourly/2018/2XUGG.csv.gz from https://bulk.meteostat.net/v2/\n",
      "Warning: Cannot load hourly/2019/2XUGG.csv.gz from https://bulk.meteostat.net/v2/\n",
      "Warning: Cannot load hourly/2018/W3CDZ.csv.gz from https://bulk.meteostat.net/v2/\n",
      "Warning: Cannot load hourly/2019/W3CDZ.csv.gz from https://bulk.meteostat.net/v2/\n",
      "Warning: Cannot load hourly/2020/NZY2Y.csv.gz from https://bulk.meteostat.net/v2/\n",
      "Warning: Cannot load hourly/2018/7FGUJ.csv.gz from https://bulk.meteostat.net/v2/\n",
      "Warning: Cannot load hourly/2019/7FGUJ.csv.gz from https://bulk.meteostat.net/v2/\n",
      "Warning: Cannot load hourly/2020/7FGUJ.csv.gz from https://bulk.meteostat.net/v2/\n",
      "Warning: Cannot load hourly/2017/NZY2Y.csv.gz from https://bulk.meteostat.net/v2/\n",
      "Warning: Cannot load hourly/2016/NZY2Y.csv.gz from https://bulk.meteostat.net/v2/\n",
      "Warning: Cannot load hourly/2015/NZY2Y.csv.gz from https://bulk.meteostat.net/v2/\n",
      "Warning: Cannot load hourly/2016/8PJPB.csv.gz from https://bulk.meteostat.net/v2/\n",
      "Warning: Cannot load hourly/2015/8PJPB.csv.gz from https://bulk.meteostat.net/v2/\n",
      "Warning: Cannot load hourly/2016/W3CDZ.csv.gz from https://bulk.meteostat.net/v2/\n",
      "Warning: Cannot load hourly/2015/W3CDZ.csv.gz from https://bulk.meteostat.net/v2/\n",
      "Warning: Cannot load hourly/2016/2XUGG.csv.gz from https://bulk.meteostat.net/v2/\n",
      "Warning: Cannot load hourly/2015/2XUGG.csv.gz from https://bulk.meteostat.net/v2/\n",
      "Warning: Cannot load hourly/2014/NZY2Y.csv.gz from https://bulk.meteostat.net/v2/\n",
      "Warning: Cannot load hourly/2017/2XUGG.csv.gz from https://bulk.meteostat.net/v2/\n",
      "Warning: Cannot load hourly/2013/8PJPB.csv.gz from https://bulk.meteostat.net/v2/\n",
      "Warning: Cannot load hourly/2014/8PJPB.csv.gz from https://bulk.meteostat.net/v2/\n",
      "Warning: Cannot load hourly/2013/2XUGG.csv.gz from https://bulk.meteostat.net/v2/\n",
      "Warning: Cannot load hourly/2014/2XUGG.csv.gz from https://bulk.meteostat.net/v2/\n",
      "Warning: Cannot load hourly/2014/W3CDZ.csv.gz from https://bulk.meteostat.net/v2/\n",
      "Warning: Cannot load hourly/2013/NZY2Y.csv.gz from https://bulk.meteostat.net/v2/\n",
      "Warning: Cannot load hourly/2012/NZY2Y.csv.gz from https://bulk.meteostat.net/v2/\n",
      "Warning: Cannot load hourly/2012/8PJPB.csv.gz from https://bulk.meteostat.net/v2/\n",
      "Warning: Cannot load hourly/2017/W3CDZ.csv.gz from https://bulk.meteostat.net/v2/\n",
      "Warning: Cannot load hourly/2011/8PJPB.csv.gz from https://bulk.meteostat.net/v2/\n",
      "Warning: Cannot load hourly/2011/2XUGG.csv.gz from https://bulk.meteostat.net/v2/\n",
      "Warning: Cannot load hourly/2012/2XUGG.csv.gz from https://bulk.meteostat.net/v2/\n",
      "Warning: Cannot load hourly/2011/NZY2Y.csv.gz from https://bulk.meteostat.net/v2/\n",
      "Warning: Cannot load hourly/2011/W3CDZ.csv.gz from https://bulk.meteostat.net/v2/\n",
      "Warning: Cannot load hourly/2012/W3CDZ.csv.gz from https://bulk.meteostat.net/v2/\n",
      "Warning: Cannot load hourly/2010/2XUGG.csv.gz from https://bulk.meteostat.net/v2/\n",
      "Warning: Cannot load hourly/2010/8PJPB.csv.gz from https://bulk.meteostat.net/v2/\n",
      "Warning: Cannot load hourly/2013/W3CDZ.csv.gz from https://bulk.meteostat.net/v2/\n",
      "Warning: Cannot load hourly/2017/7FGUJ.csv.gz from https://bulk.meteostat.net/v2/\n"
     ]
    },
    {
     "data": {
      "text/html": [
       "<div>\n",
       "<style scoped>\n",
       "    .dataframe tbody tr th:only-of-type {\n",
       "        vertical-align: middle;\n",
       "    }\n",
       "\n",
       "    .dataframe tbody tr th {\n",
       "        vertical-align: top;\n",
       "    }\n",
       "\n",
       "    .dataframe thead th {\n",
       "        text-align: right;\n",
       "    }\n",
       "</style>\n",
       "<table border=\"1\" class=\"dataframe\">\n",
       "  <thead>\n",
       "    <tr style=\"text-align: right;\">\n",
       "      <th></th>\n",
       "      <th>Key</th>\n",
       "      <th>TFS_Alarm_Time</th>\n",
       "      <th>Latitude</th>\n",
       "      <th>Longitude</th>\n",
       "      <th>StartTime</th>\n",
       "      <th>EndTime</th>\n",
       "      <th>Weather</th>\n",
       "    </tr>\n",
       "  </thead>\n",
       "  <tbody>\n",
       "    <tr>\n",
       "      <th>0</th>\n",
       "      <td>2018022421042968655994</td>\n",
       "      <td>2018-02-24 21:04:29</td>\n",
       "      <td>43.686558</td>\n",
       "      <td>-79.599419</td>\n",
       "      <td>2018-02-24 20:34:29</td>\n",
       "      <td>2018-02-24 21:34:29</td>\n",
       "      <td>&lt;meteostat.interface.hourly.Hourly object at 0...</td>\n",
       "    </tr>\n",
       "    <tr>\n",
       "      <th>1</th>\n",
       "      <td>2018022421244376613900</td>\n",
       "      <td>2018-02-24 21:24:43</td>\n",
       "      <td>43.766135</td>\n",
       "      <td>-79.390039</td>\n",
       "      <td>2018-02-24 20:54:43</td>\n",
       "      <td>2018-02-24 21:54:43</td>\n",
       "      <td>&lt;meteostat.interface.hourly.Hourly object at 0...</td>\n",
       "    </tr>\n",
       "    <tr>\n",
       "      <th>2</th>\n",
       "      <td>2018022513295974322450</td>\n",
       "      <td>2018-02-25 13:29:59</td>\n",
       "      <td>43.743230</td>\n",
       "      <td>-79.245061</td>\n",
       "      <td>2018-02-25 12:59:59</td>\n",
       "      <td>2018-02-25 13:59:59</td>\n",
       "      <td>&lt;meteostat.interface.hourly.Hourly object at 0...</td>\n",
       "    </tr>\n",
       "    <tr>\n",
       "      <th>3</th>\n",
       "      <td>2018022514133970864780</td>\n",
       "      <td>2018-02-25 14:13:39</td>\n",
       "      <td>43.708659</td>\n",
       "      <td>-79.478062</td>\n",
       "      <td>2018-02-25 13:43:39</td>\n",
       "      <td>2018-02-25 14:43:39</td>\n",
       "      <td>&lt;meteostat.interface.hourly.Hourly object at 0...</td>\n",
       "    </tr>\n",
       "    <tr>\n",
       "      <th>4</th>\n",
       "      <td>2018022518204371814431</td>\n",
       "      <td>2018-02-25 18:20:43</td>\n",
       "      <td>43.718118</td>\n",
       "      <td>-79.443184</td>\n",
       "      <td>2018-02-25 17:50:43</td>\n",
       "      <td>2018-02-25 18:50:43</td>\n",
       "      <td>&lt;meteostat.interface.hourly.Hourly object at 0...</td>\n",
       "    </tr>\n",
       "  </tbody>\n",
       "</table>\n",
       "</div>"
      ],
      "text/plain": [
       "                      Key      TFS_Alarm_Time   Latitude  Longitude  \\\n",
       "0  2018022421042968655994 2018-02-24 21:04:29  43.686558 -79.599419   \n",
       "1  2018022421244376613900 2018-02-24 21:24:43  43.766135 -79.390039   \n",
       "2  2018022513295974322450 2018-02-25 13:29:59  43.743230 -79.245061   \n",
       "3  2018022514133970864780 2018-02-25 14:13:39  43.708659 -79.478062   \n",
       "4  2018022518204371814431 2018-02-25 18:20:43  43.718118 -79.443184   \n",
       "\n",
       "            StartTime             EndTime  \\\n",
       "0 2018-02-24 20:34:29 2018-02-24 21:34:29   \n",
       "1 2018-02-24 20:54:43 2018-02-24 21:54:43   \n",
       "2 2018-02-25 12:59:59 2018-02-25 13:59:59   \n",
       "3 2018-02-25 13:43:39 2018-02-25 14:43:39   \n",
       "4 2018-02-25 17:50:43 2018-02-25 18:50:43   \n",
       "\n",
       "                                             Weather  \n",
       "0  <meteostat.interface.hourly.Hourly object at 0...  \n",
       "1  <meteostat.interface.hourly.Hourly object at 0...  \n",
       "2  <meteostat.interface.hourly.Hourly object at 0...  \n",
       "3  <meteostat.interface.hourly.Hourly object at 0...  \n",
       "4  <meteostat.interface.hourly.Hourly object at 0...  "
      ]
     },
     "metadata": {},
     "output_type": "display_data"
    }
   ],
   "source": [
    "weatherData[\"Weather\"]= dfHourlyData.apply(lambda x:meteostat.Hourly(x['Points'], x['StartTime'],x['EndTime']), axis = 1)\n",
    "display(weatherData.head())"
   ]
  },
  {
   "cell_type": "code",
   "execution_count": 50,
   "id": "1452fe9a",
   "metadata": {
    "scrolled": true
   },
   "outputs": [
    {
     "name": "stdout",
     "output_type": "stream",
     "text": [
      "25858\n"
     ]
    }
   ],
   "source": [
    "maxIndex = len(weatherData[\"Weather\"])\n",
    "print(maxIndex)\n",
    "hourlyData = []\n",
    "for x in range(maxIndex):\n",
    "    hourlyData.append(weatherData[\"Weather\"][25857].fetch())\n"
   ]
  },
  {
   "cell_type": "code",
   "execution_count": 56,
   "id": "9a7344a3",
   "metadata": {},
   "outputs": [
    {
     "data": {
      "text/html": [
       "<div>\n",
       "<style scoped>\n",
       "    .dataframe tbody tr th:only-of-type {\n",
       "        vertical-align: middle;\n",
       "    }\n",
       "\n",
       "    .dataframe tbody tr th {\n",
       "        vertical-align: top;\n",
       "    }\n",
       "\n",
       "    .dataframe thead th {\n",
       "        text-align: right;\n",
       "    }\n",
       "</style>\n",
       "<table border=\"1\" class=\"dataframe\">\n",
       "  <thead>\n",
       "    <tr style=\"text-align: right;\">\n",
       "      <th></th>\n",
       "      <th>temp</th>\n",
       "      <th>dwpt</th>\n",
       "      <th>rhum</th>\n",
       "      <th>prcp</th>\n",
       "      <th>snow</th>\n",
       "      <th>wdir</th>\n",
       "      <th>wspd</th>\n",
       "      <th>wpgt</th>\n",
       "      <th>pres</th>\n",
       "      <th>tsun</th>\n",
       "      <th>coco</th>\n",
       "    </tr>\n",
       "    <tr>\n",
       "      <th>time</th>\n",
       "      <th></th>\n",
       "      <th></th>\n",
       "      <th></th>\n",
       "      <th></th>\n",
       "      <th></th>\n",
       "      <th></th>\n",
       "      <th></th>\n",
       "      <th></th>\n",
       "      <th></th>\n",
       "      <th></th>\n",
       "      <th></th>\n",
       "    </tr>\n",
       "  </thead>\n",
       "  <tbody>\n",
       "    <tr>\n",
       "      <th>2021-06-24 12:00:00</th>\n",
       "      <td>18.2</td>\n",
       "      <td>13.1</td>\n",
       "      <td>72.0</td>\n",
       "      <td>0.0</td>\n",
       "      <td>NaN</td>\n",
       "      <td>0.0</td>\n",
       "      <td>0.0</td>\n",
       "      <td>NaN</td>\n",
       "      <td>1022.1</td>\n",
       "      <td>NaN</td>\n",
       "      <td>NaN</td>\n",
       "    </tr>\n",
       "  </tbody>\n",
       "</table>\n",
       "</div>"
      ],
      "text/plain": [
       "                     temp  dwpt  rhum  prcp  snow  wdir  wspd  wpgt    pres  \\\n",
       "time                                                                          \n",
       "2021-06-24 12:00:00  18.2  13.1  72.0   0.0   NaN   0.0   0.0   NaN  1022.1   \n",
       "\n",
       "                     tsun  coco  \n",
       "time                             \n",
       "2021-06-24 12:00:00   NaN   NaN  "
      ]
     },
     "metadata": {},
     "output_type": "display_data"
    }
   ],
   "source": [
    "display(hourlyData[0])"
   ]
  },
  {
   "cell_type": "code",
   "execution_count": 60,
   "id": "e7c7f6be",
   "metadata": {},
   "outputs": [
    {
     "ename": "ValueError",
     "evalue": "Must pass 2-d input. shape=(25858, 1, 11)",
     "output_type": "error",
     "traceback": [
      "\u001b[1;31m---------------------------------------------------------------------------\u001b[0m",
      "\u001b[1;31mValueError\u001b[0m                                Traceback (most recent call last)",
      "\u001b[1;32m~\\AppData\\Local\\Temp\\ipykernel_114824\\406488465.py\u001b[0m in \u001b[0;36m<module>\u001b[1;34m\u001b[0m\n\u001b[1;32m----> 1\u001b[1;33m \u001b[0md\u001b[0m \u001b[1;33m=\u001b[0m \u001b[0mpd\u001b[0m\u001b[1;33m.\u001b[0m\u001b[0mDataFrame\u001b[0m\u001b[1;33m(\u001b[0m\u001b[0mhourlyData\u001b[0m\u001b[1;33m,\u001b[0m \u001b[0mcolumns\u001b[0m \u001b[1;33m=\u001b[0m\u001b[1;33m[\u001b[0m\u001b[1;34m'time'\u001b[0m\u001b[1;33m,\u001b[0m \u001b[1;34m'something'\u001b[0m\u001b[1;33m,\u001b[0m\u001b[1;34m'temp'\u001b[0m\u001b[1;33m,\u001b[0m \u001b[1;34m'dwpt'\u001b[0m\u001b[1;33m,\u001b[0m \u001b[1;34m'rhum'\u001b[0m\u001b[1;33m,\u001b[0m \u001b[1;34m'prcp'\u001b[0m\u001b[1;33m,\u001b[0m \u001b[1;34m'snow'\u001b[0m\u001b[1;33m,\u001b[0m \u001b[1;34m'wdir'\u001b[0m\u001b[1;33m,\u001b[0m \u001b[1;34m'wspd'\u001b[0m\u001b[1;33m,\u001b[0m \u001b[1;34m'wpgt'\u001b[0m\u001b[1;33m,\u001b[0m \u001b[1;34m'pres'\u001b[0m\u001b[1;33m,\u001b[0m \u001b[1;34m'tsun'\u001b[0m\u001b[1;33m,\u001b[0m \u001b[1;34m'coco'\u001b[0m\u001b[1;33m]\u001b[0m\u001b[1;33m)\u001b[0m\u001b[1;33m\u001b[0m\u001b[1;33m\u001b[0m\u001b[0m\n\u001b[0m\u001b[0;32m      2\u001b[0m \u001b[0mdisplay\u001b[0m\u001b[1;33m(\u001b[0m\u001b[0md\u001b[0m\u001b[1;33m.\u001b[0m\u001b[0mhead\u001b[0m\u001b[1;33m(\u001b[0m\u001b[1;33m)\u001b[0m\u001b[1;33m)\u001b[0m\u001b[1;33m\u001b[0m\u001b[1;33m\u001b[0m\u001b[0m\n",
      "\u001b[1;32m~\\anaconda3\\lib\\site-packages\\pandas\\core\\frame.py\u001b[0m in \u001b[0;36m__init__\u001b[1;34m(self, data, index, columns, dtype, copy)\u001b[0m\n\u001b[0;32m    735\u001b[0m                     )\n\u001b[0;32m    736\u001b[0m                 \u001b[1;32melse\u001b[0m\u001b[1;33m:\u001b[0m\u001b[1;33m\u001b[0m\u001b[1;33m\u001b[0m\u001b[0m\n\u001b[1;32m--> 737\u001b[1;33m                     mgr = ndarray_to_mgr(\n\u001b[0m\u001b[0;32m    738\u001b[0m                         \u001b[0mdata\u001b[0m\u001b[1;33m,\u001b[0m\u001b[1;33m\u001b[0m\u001b[1;33m\u001b[0m\u001b[0m\n\u001b[0;32m    739\u001b[0m                         \u001b[0mindex\u001b[0m\u001b[1;33m,\u001b[0m\u001b[1;33m\u001b[0m\u001b[1;33m\u001b[0m\u001b[0m\n",
      "\u001b[1;32m~\\anaconda3\\lib\\site-packages\\pandas\\core\\internals\\construction.py\u001b[0m in \u001b[0;36mndarray_to_mgr\u001b[1;34m(values, index, columns, dtype, copy, typ)\u001b[0m\n\u001b[0;32m    329\u001b[0m         \u001b[1;31m# by definition an array here\u001b[0m\u001b[1;33m\u001b[0m\u001b[1;33m\u001b[0m\u001b[0m\n\u001b[0;32m    330\u001b[0m         \u001b[1;31m# the dtypes will be coerced to a single dtype\u001b[0m\u001b[1;33m\u001b[0m\u001b[1;33m\u001b[0m\u001b[0m\n\u001b[1;32m--> 331\u001b[1;33m         \u001b[0mvalues\u001b[0m \u001b[1;33m=\u001b[0m \u001b[0m_prep_ndarray\u001b[0m\u001b[1;33m(\u001b[0m\u001b[0mvalues\u001b[0m\u001b[1;33m,\u001b[0m \u001b[0mcopy\u001b[0m\u001b[1;33m=\u001b[0m\u001b[0mcopy_on_sanitize\u001b[0m\u001b[1;33m)\u001b[0m\u001b[1;33m\u001b[0m\u001b[1;33m\u001b[0m\u001b[0m\n\u001b[0m\u001b[0;32m    332\u001b[0m \u001b[1;33m\u001b[0m\u001b[0m\n\u001b[0;32m    333\u001b[0m     \u001b[1;32mif\u001b[0m \u001b[0mdtype\u001b[0m \u001b[1;32mis\u001b[0m \u001b[1;32mnot\u001b[0m \u001b[1;32mNone\u001b[0m \u001b[1;32mand\u001b[0m \u001b[1;32mnot\u001b[0m \u001b[0mis_dtype_equal\u001b[0m\u001b[1;33m(\u001b[0m\u001b[0mvalues\u001b[0m\u001b[1;33m.\u001b[0m\u001b[0mdtype\u001b[0m\u001b[1;33m,\u001b[0m \u001b[0mdtype\u001b[0m\u001b[1;33m)\u001b[0m\u001b[1;33m:\u001b[0m\u001b[1;33m\u001b[0m\u001b[1;33m\u001b[0m\u001b[0m\n",
      "\u001b[1;32m~\\anaconda3\\lib\\site-packages\\pandas\\core\\internals\\construction.py\u001b[0m in \u001b[0;36m_prep_ndarray\u001b[1;34m(values, copy)\u001b[0m\n\u001b[0;32m    589\u001b[0m         \u001b[0mvalues\u001b[0m \u001b[1;33m=\u001b[0m \u001b[0mvalues\u001b[0m\u001b[1;33m.\u001b[0m\u001b[0mreshape\u001b[0m\u001b[1;33m(\u001b[0m\u001b[1;33m(\u001b[0m\u001b[0mvalues\u001b[0m\u001b[1;33m.\u001b[0m\u001b[0mshape\u001b[0m\u001b[1;33m[\u001b[0m\u001b[1;36m0\u001b[0m\u001b[1;33m]\u001b[0m\u001b[1;33m,\u001b[0m \u001b[1;36m1\u001b[0m\u001b[1;33m)\u001b[0m\u001b[1;33m)\u001b[0m\u001b[1;33m\u001b[0m\u001b[1;33m\u001b[0m\u001b[0m\n\u001b[0;32m    590\u001b[0m     \u001b[1;32melif\u001b[0m \u001b[0mvalues\u001b[0m\u001b[1;33m.\u001b[0m\u001b[0mndim\u001b[0m \u001b[1;33m!=\u001b[0m \u001b[1;36m2\u001b[0m\u001b[1;33m:\u001b[0m\u001b[1;33m\u001b[0m\u001b[1;33m\u001b[0m\u001b[0m\n\u001b[1;32m--> 591\u001b[1;33m         \u001b[1;32mraise\u001b[0m \u001b[0mValueError\u001b[0m\u001b[1;33m(\u001b[0m\u001b[1;34mf\"Must pass 2-d input. shape={values.shape}\"\u001b[0m\u001b[1;33m)\u001b[0m\u001b[1;33m\u001b[0m\u001b[1;33m\u001b[0m\u001b[0m\n\u001b[0m\u001b[0;32m    592\u001b[0m \u001b[1;33m\u001b[0m\u001b[0m\n\u001b[0;32m    593\u001b[0m     \u001b[1;32mreturn\u001b[0m \u001b[0mvalues\u001b[0m\u001b[1;33m\u001b[0m\u001b[1;33m\u001b[0m\u001b[0m\n",
      "\u001b[1;31mValueError\u001b[0m: Must pass 2-d input. shape=(25858, 1, 11)"
     ]
    }
   ],
   "source": [
    "d = pd.DataFrame(hourlyData)\n",
    "display(d.head())"
   ]
  },
  {
   "cell_type": "code",
   "execution_count": 39,
   "id": "9202e0e3",
   "metadata": {},
   "outputs": [],
   "source": [
    "weatherData.to_csv(\"Weather.csv\")"
   ]
  },
  {
   "cell_type": "code",
   "execution_count": 97,
   "id": "21709c27",
   "metadata": {},
   "outputs": [],
   "source": [
    "# problems: requesting data dropped some data from api\n",
    "# the time range ie) 10 mins before + 10 mins after or?\n",
    "# need to add comments\n",
    "# cannot identify which fires are which anymore because of the change in times\n",
    "#drop coco, tsun, pres"
   ]
  },
  {
   "cell_type": "code",
   "execution_count": null,
   "id": "0cb323bd",
   "metadata": {},
   "outputs": [],
   "source": []
  }
 ],
 "metadata": {
  "kernelspec": {
   "display_name": "Python 3 (ipykernel)",
   "language": "python",
   "name": "python3"
  },
  "language_info": {
   "codemirror_mode": {
    "name": "ipython",
    "version": 3
   },
   "file_extension": ".py",
   "mimetype": "text/x-python",
   "name": "python",
   "nbconvert_exporter": "python",
   "pygments_lexer": "ipython3",
   "version": "3.9.13"
  }
 },
 "nbformat": 4,
 "nbformat_minor": 5
}
