{
 "cells": [
  {
   "cell_type": "code",
   "execution_count": 1,
   "id": "b63841ce",
   "metadata": {},
   "outputs": [],
   "source": [
    "import pandas as pd\n",
    "import numpy as np"
   ]
  },
  {
   "cell_type": "code",
   "execution_count": 2,
   "id": "c87681ed",
   "metadata": {},
   "outputs": [],
   "source": [
    "import meteostat\n",
    "from meteostat import Hourly, Stations, Point\n",
    "from datetime import datetime, timedelta"
   ]
  },
  {
   "cell_type": "code",
   "execution_count": 3,
   "id": "5f7927ae",
   "metadata": {},
   "outputs": [],
   "source": [
    "df = pd.read_csv(\"../raw_data/fire_incidents_data.csv\")"
   ]
  },
  {
   "cell_type": "code",
   "execution_count": 4,
   "id": "c57a60b1",
   "metadata": {
    "scrolled": true
   },
   "outputs": [
    {
     "name": "stdout",
     "output_type": "stream",
     "text": [
      "0       2018-02-24 21:04:29\n",
      "1       2018-02-24 21:24:43\n",
      "2       2018-02-25 13:29:59\n",
      "3       2018-02-25 14:13:39\n",
      "4       2018-02-25 18:20:43\n",
      "                ...        \n",
      "25855   2021-06-24 07:28:16\n",
      "25856   2021-06-24 07:59:40\n",
      "25857   2021-06-24 11:45:44\n",
      "25858   2021-06-24 14:04:07\n",
      "25859   2021-06-24 15:07:19\n",
      "Name: TFS_Alarm_Time, Length: 25860, dtype: datetime64[ns]\n"
     ]
    }
   ],
   "source": [
    "times = df[\"TFS_Alarm_Time\"]\n",
    "times = pd.to_datetime(times)\n",
    "print(times)"
   ]
  },
  {
   "cell_type": "code",
   "execution_count": 5,
   "id": "a93ecf92",
   "metadata": {},
   "outputs": [
    {
     "name": "stdout",
     "output_type": "stream",
     "text": [
      "2018-02-24 21:00:00\n"
     ]
    }
   ],
   "source": [
    "t = times[0].replace(second=0, microsecond=0, minute=0)\n",
    "print(t)"
   ]
  },
  {
   "cell_type": "code",
   "execution_count": 6,
   "id": "8417da99",
   "metadata": {},
   "outputs": [],
   "source": [
    "lat = df[\"Latitude\"]\n",
    "long = df[\"Longitude\"]"
   ]
  },
  {
   "cell_type": "code",
   "execution_count": 7,
   "id": "e752a3f1",
   "metadata": {
    "scrolled": true
   },
   "outputs": [
    {
     "data": {
      "text/plain": [
       "0        43.686558\n",
       "1        43.766135\n",
       "2        43.743230\n",
       "3        43.708659\n",
       "4        43.718118\n",
       "           ...    \n",
       "25855    43.731133\n",
       "25856    43.746315\n",
       "25857    43.657067\n",
       "25858    43.663052\n",
       "25859    43.749227\n",
       "Name: Latitude, Length: 25860, dtype: float64"
      ]
     },
     "metadata": {},
     "output_type": "display_data"
    }
   ],
   "source": [
    "display(lat)"
   ]
  },
  {
   "cell_type": "code",
   "execution_count": null,
   "id": "3957b2e7",
   "metadata": {},
   "outputs": [],
   "source": []
  },
  {
   "cell_type": "code",
   "execution_count": 8,
   "id": "4fe298df",
   "metadata": {},
   "outputs": [
    {
     "name": "stderr",
     "output_type": "stream",
     "text": [
      "Warning: Cannot load hourly/2018/NZY2Y.csv.gz from https://bulk.meteostat.net/v2/\n",
      "Warning: Cannot load hourly/2019/NZY2Y.csv.gz from https://bulk.meteostat.net/v2/\n"
     ]
    },
    {
     "name": "stdout",
     "output_type": "stream",
     "text": [
      "<class 'pandas.core.frame.DataFrame'>\n",
      "                     temp  dwpt  rhum  prcp  snow  wdir  wspd  wpgt    pres  \\\n",
      "time                                                                          \n",
      "2018-02-24 21:00:00   4.0  -3.5  58.0   NaN   NaN  70.0   9.4   NaN  1022.2   \n",
      "\n",
      "                     tsun  coco  \n",
      "time                             \n",
      "2018-02-24 21:00:00   NaN   3.0  \n"
     ]
    }
   ],
   "source": [
    "start = t\n",
    "end = t\n",
    "\n",
    "p = Point(lat[0], long[0])\n",
    "# Get hourly data\n",
    "data = Hourly(p, start, start)\n",
    "data = data.fetch()\n",
    "print(type(data))\n",
    "# Print DataFrame\n",
    "print(data)\n",
    "   "
   ]
  },
  {
   "cell_type": "code",
   "execution_count": 9,
   "id": "7dac063f",
   "metadata": {},
   "outputs": [
    {
     "name": "stdout",
     "output_type": "stream",
     "text": [
      "          name country region    wmo  icao  latitude  longitude  elevation  \\\n",
      "id                                                                           \n",
      "37212  Nal'Cik      RU     KB  37212  URMN   43.5333    43.6333        0.0   \n",
      "\n",
      "               timezone hourly_start hourly_end daily_start  daily_end  \\\n",
      "id                                                                       \n",
      "37212  Europe/Volgograd   1948-01-01 2023-03-19  1936-01-01 2023-03-12   \n",
      "\n",
      "      monthly_start monthly_end      distance  \n",
      "id                                             \n",
      "37212    1936-01-01  2022-01-01  20119.372572  \n"
     ]
    }
   ],
   "source": [
    "state = Stations()\n",
    "state = state.nearby(lat[0], lat[1])\n",
    "state = state.fetch(1)\n",
    "print(state)"
   ]
  },
  {
   "cell_type": "code",
   "execution_count": 10,
   "id": "684bf6b5",
   "metadata": {},
   "outputs": [
    {
     "name": "stdout",
     "output_type": "stream",
     "text": [
      "0       2018-02-24 21:00:00\n",
      "1       2018-02-24 21:00:00\n",
      "2       2018-02-25 13:00:00\n",
      "3       2018-02-25 14:00:00\n",
      "4       2018-02-25 18:00:00\n",
      "                ...        \n",
      "25855   2021-06-24 07:00:00\n",
      "25856   2021-06-24 07:00:00\n",
      "25857   2021-06-24 11:00:00\n",
      "25858   2021-06-24 14:00:00\n",
      "25859   2021-06-24 15:00:00\n",
      "Name: TFS_Alarm_Time, Length: 25860, dtype: datetime64[ns]\n"
     ]
    }
   ],
   "source": [
    "times = times.apply(lambda dt:dt.replace(second=0, microsecond=0, minute=0))\n",
    "print(times)"
   ]
  },
  {
   "cell_type": "code",
   "execution_count": 11,
   "id": "d18e0d73",
   "metadata": {},
   "outputs": [
    {
     "name": "stdout",
     "output_type": "stream",
     "text": [
      "           TFS_Alarm_Time   Latitude  Longitude\n",
      "0     2018-02-24 21:00:00  43.686558 -79.599419\n",
      "1     2018-02-24 21:00:00  43.766135 -79.390039\n",
      "2     2018-02-25 13:00:00  43.743230 -79.245061\n",
      "3     2018-02-25 14:00:00  43.708659 -79.478062\n",
      "4     2018-02-25 18:00:00  43.718118 -79.443184\n",
      "...                   ...        ...        ...\n",
      "25855 2021-06-24 07:00:00  43.731133 -79.607765\n",
      "25856 2021-06-24 07:00:00  43.746315 -79.588165\n",
      "25857 2021-06-24 11:00:00  43.657067 -79.374567\n",
      "25858 2021-06-24 14:00:00  43.663052 -79.402109\n",
      "25859 2021-06-24 15:00:00  43.749227 -79.510449\n",
      "\n",
      "[25860 rows x 3 columns]\n"
     ]
    }
   ],
   "source": [
    "df = pd.concat([times, lat, long], axis=1)\n",
    "print(df)"
   ]
  },
  {
   "cell_type": "code",
   "execution_count": 12,
   "id": "b190049f",
   "metadata": {},
   "outputs": [
    {
     "name": "stdout",
     "output_type": "stream",
     "text": [
      "<class 'meteostat.interface.point.Point'>\n",
      "<meteostat.interface.point.Point object at 0x0000027DCDE117F0>\n"
     ]
    },
    {
     "data": {
      "text/html": [
       "<div>\n",
       "<style scoped>\n",
       "    .dataframe tbody tr th:only-of-type {\n",
       "        vertical-align: middle;\n",
       "    }\n",
       "\n",
       "    .dataframe tbody tr th {\n",
       "        vertical-align: top;\n",
       "    }\n",
       "\n",
       "    .dataframe thead th {\n",
       "        text-align: right;\n",
       "    }\n",
       "</style>\n",
       "<table border=\"1\" class=\"dataframe\">\n",
       "  <thead>\n",
       "    <tr style=\"text-align: right;\">\n",
       "      <th></th>\n",
       "      <th>temp</th>\n",
       "      <th>dwpt</th>\n",
       "      <th>rhum</th>\n",
       "      <th>prcp</th>\n",
       "      <th>snow</th>\n",
       "      <th>wdir</th>\n",
       "      <th>wspd</th>\n",
       "      <th>wpgt</th>\n",
       "      <th>pres</th>\n",
       "      <th>tsun</th>\n",
       "      <th>coco</th>\n",
       "    </tr>\n",
       "    <tr>\n",
       "      <th>time</th>\n",
       "      <th></th>\n",
       "      <th></th>\n",
       "      <th></th>\n",
       "      <th></th>\n",
       "      <th></th>\n",
       "      <th></th>\n",
       "      <th></th>\n",
       "      <th></th>\n",
       "      <th></th>\n",
       "      <th></th>\n",
       "      <th></th>\n",
       "    </tr>\n",
       "  </thead>\n",
       "  <tbody>\n",
       "    <tr>\n",
       "      <th>2018-02-24 21:00:00</th>\n",
       "      <td>4.0</td>\n",
       "      <td>-3.5</td>\n",
       "      <td>58.0</td>\n",
       "      <td>NaN</td>\n",
       "      <td>NaN</td>\n",
       "      <td>70.0</td>\n",
       "      <td>9.4</td>\n",
       "      <td>NaN</td>\n",
       "      <td>1022.2</td>\n",
       "      <td>NaN</td>\n",
       "      <td>3.0</td>\n",
       "    </tr>\n",
       "  </tbody>\n",
       "</table>\n",
       "</div>"
      ],
      "text/plain": [
       "                     temp  dwpt  rhum  prcp  snow  wdir  wspd  wpgt    pres  \\\n",
       "time                                                                          \n",
       "2018-02-24 21:00:00   4.0  -3.5  58.0   NaN   NaN  70.0   9.4   NaN  1022.2   \n",
       "\n",
       "                     tsun  coco  \n",
       "time                             \n",
       "2018-02-24 21:00:00   NaN   3.0  "
      ]
     },
     "execution_count": 12,
     "metadata": {},
     "output_type": "execute_result"
    }
   ],
   "source": [
    "# tmp = df[0]\n",
    "# Point(df[\"Latitude\"][0], df[\"Longitude\"][0])\n",
    "tmp = df.iloc[0]\n",
    "tp =Point(tmp[1], tmp[2])\n",
    "print(type(tp))\n",
    "print(tp)\n",
    "th= Hourly(tp,tmp[0],tmp[0])\n",
    "th.fetch()"
   ]
  },
  {
   "cell_type": "code",
   "execution_count": 13,
   "id": "49d4f8b8",
   "metadata": {},
   "outputs": [
    {
     "name": "stdout",
     "output_type": "stream",
     "text": [
      "        Latitude  Longitude\n",
      "0      43.686558 -79.599419\n",
      "1      43.766135 -79.390039\n",
      "2      43.743230 -79.245061\n",
      "3      43.708659 -79.478062\n",
      "4      43.718118 -79.443184\n",
      "...          ...        ...\n",
      "25855  43.731133 -79.607765\n",
      "25856  43.746315 -79.588165\n",
      "25857  43.657067 -79.374567\n",
      "25858  43.663052 -79.402109\n",
      "25859  43.749227 -79.510449\n",
      "\n",
      "[25860 rows x 2 columns]\n"
     ]
    }
   ],
   "source": [
    "df2 = pd.concat([lat, long], axis=1)\n",
    "print(df2)"
   ]
  },
  {
   "cell_type": "code",
   "execution_count": 14,
   "id": "5c50dbdd",
   "metadata": {},
   "outputs": [
    {
     "data": {
      "text/plain": [
       "Index(['Latitude', 'Longitude'], dtype='object')"
      ]
     },
     "execution_count": 14,
     "metadata": {},
     "output_type": "execute_result"
    }
   ],
   "source": [
    "df2.columns"
   ]
  },
  {
   "cell_type": "code",
   "execution_count": 15,
   "id": "c0ddebb4",
   "metadata": {},
   "outputs": [],
   "source": [
    "df3 = df2.apply(lambda y:meteostat.Point(y['Latitude'], y['Longitude']), axis = 1)"
   ]
  },
  {
   "cell_type": "code",
   "execution_count": 16,
   "id": "54a9541b",
   "metadata": {},
   "outputs": [
    {
     "data": {
      "text/html": [
       "<div>\n",
       "<style scoped>\n",
       "    .dataframe tbody tr th:only-of-type {\n",
       "        vertical-align: middle;\n",
       "    }\n",
       "\n",
       "    .dataframe tbody tr th {\n",
       "        vertical-align: top;\n",
       "    }\n",
       "\n",
       "    .dataframe thead th {\n",
       "        text-align: right;\n",
       "    }\n",
       "</style>\n",
       "<table border=\"1\" class=\"dataframe\">\n",
       "  <thead>\n",
       "    <tr style=\"text-align: right;\">\n",
       "      <th></th>\n",
       "      <th>Latitude</th>\n",
       "      <th>Longitude</th>\n",
       "    </tr>\n",
       "  </thead>\n",
       "  <tbody>\n",
       "    <tr>\n",
       "      <th>0</th>\n",
       "      <td>43.686558</td>\n",
       "      <td>-79.599419</td>\n",
       "    </tr>\n",
       "    <tr>\n",
       "      <th>1</th>\n",
       "      <td>43.766135</td>\n",
       "      <td>-79.390039</td>\n",
       "    </tr>\n",
       "    <tr>\n",
       "      <th>2</th>\n",
       "      <td>43.743230</td>\n",
       "      <td>-79.245061</td>\n",
       "    </tr>\n",
       "    <tr>\n",
       "      <th>3</th>\n",
       "      <td>43.708659</td>\n",
       "      <td>-79.478062</td>\n",
       "    </tr>\n",
       "    <tr>\n",
       "      <th>4</th>\n",
       "      <td>43.718118</td>\n",
       "      <td>-79.443184</td>\n",
       "    </tr>\n",
       "    <tr>\n",
       "      <th>...</th>\n",
       "      <td>...</td>\n",
       "      <td>...</td>\n",
       "    </tr>\n",
       "    <tr>\n",
       "      <th>25855</th>\n",
       "      <td>43.731133</td>\n",
       "      <td>-79.607765</td>\n",
       "    </tr>\n",
       "    <tr>\n",
       "      <th>25856</th>\n",
       "      <td>43.746315</td>\n",
       "      <td>-79.588165</td>\n",
       "    </tr>\n",
       "    <tr>\n",
       "      <th>25857</th>\n",
       "      <td>43.657067</td>\n",
       "      <td>-79.374567</td>\n",
       "    </tr>\n",
       "    <tr>\n",
       "      <th>25858</th>\n",
       "      <td>43.663052</td>\n",
       "      <td>-79.402109</td>\n",
       "    </tr>\n",
       "    <tr>\n",
       "      <th>25859</th>\n",
       "      <td>43.749227</td>\n",
       "      <td>-79.510449</td>\n",
       "    </tr>\n",
       "  </tbody>\n",
       "</table>\n",
       "<p>25860 rows × 2 columns</p>\n",
       "</div>"
      ],
      "text/plain": [
       "        Latitude  Longitude\n",
       "0      43.686558 -79.599419\n",
       "1      43.766135 -79.390039\n",
       "2      43.743230 -79.245061\n",
       "3      43.708659 -79.478062\n",
       "4      43.718118 -79.443184\n",
       "...          ...        ...\n",
       "25855  43.731133 -79.607765\n",
       "25856  43.746315 -79.588165\n",
       "25857  43.657067 -79.374567\n",
       "25858  43.663052 -79.402109\n",
       "25859  43.749227 -79.510449\n",
       "\n",
       "[25860 rows x 2 columns]"
      ]
     },
     "metadata": {},
     "output_type": "display_data"
    },
    {
     "data": {
      "text/plain": [
       "25860"
      ]
     },
     "execution_count": 16,
     "metadata": {},
     "output_type": "execute_result"
    }
   ],
   "source": [
    "# for index, val in df3.items():\n",
    "#     print(val._lat, val._lon)\n",
    "display(df2)\n",
    "df3.count()"
   ]
  },
  {
   "cell_type": "code",
   "execution_count": 17,
   "id": "24de6ac1",
   "metadata": {
    "scrolled": true
   },
   "outputs": [
    {
     "name": "stderr",
     "output_type": "stream",
     "text": [
      "Warning: Cannot load hourly/2017/7FGUJ.csv.gz from https://bulk.meteostat.net/v2/\n"
     ]
    },
    {
     "data": {
      "text/plain": [
       "0        <meteostat.interface.hourly.Hourly object at 0...\n",
       "1        <meteostat.interface.hourly.Hourly object at 0...\n",
       "2        <meteostat.interface.hourly.Hourly object at 0...\n",
       "3        <meteostat.interface.hourly.Hourly object at 0...\n",
       "4        <meteostat.interface.hourly.Hourly object at 0...\n",
       "                               ...                        \n",
       "25855    <meteostat.interface.hourly.Hourly object at 0...\n",
       "25856    <meteostat.interface.hourly.Hourly object at 0...\n",
       "25857    <meteostat.interface.hourly.Hourly object at 0...\n",
       "25858    <meteostat.interface.hourly.Hourly object at 0...\n",
       "25859    <meteostat.interface.hourly.Hourly object at 0...\n",
       "Length: 25860, dtype: object"
      ]
     },
     "metadata": {},
     "output_type": "display_data"
    },
    {
     "name": "stdout",
     "output_type": "stream",
     "text": [
      "<class 'pandas.core.series.Series'>\n"
     ]
    }
   ],
   "source": [
    "df4 = pd.concat([times, df3], axis= 1)\n",
    "df4.columns = ['TFS_Alarm_Time', 'Points']\n",
    "# display(df4)\n",
    "df5 = df4.apply(lambda y:meteostat.Hourly(y['Points'], y['TFS_Alarm_Time'],y['TFS_Alarm_Time']), axis = 1)\n",
    "display(df5)\n",
    "print(type(df5))"
   ]
  },
  {
   "cell_type": "code",
   "execution_count": 60,
   "id": "3d88e88d",
   "metadata": {},
   "outputs": [
    {
     "data": {
      "text/plain": [
       "0        <module 'meteostat.series.fetch' from 'C:\\\\Use...\n",
       "1        <module 'meteostat.series.fetch' from 'C:\\\\Use...\n",
       "2        <module 'meteostat.series.fetch' from 'C:\\\\Use...\n",
       "3        <module 'meteostat.series.fetch' from 'C:\\\\Use...\n",
       "4        <module 'meteostat.series.fetch' from 'C:\\\\Use...\n",
       "                               ...                        \n",
       "25855    <module 'meteostat.series.fetch' from 'C:\\\\Use...\n",
       "25856    <module 'meteostat.series.fetch' from 'C:\\\\Use...\n",
       "25857    <module 'meteostat.series.fetch' from 'C:\\\\Use...\n",
       "25858    <module 'meteostat.series.fetch' from 'C:\\\\Use...\n",
       "25859    <module 'meteostat.series.fetch' from 'C:\\\\Use...\n",
       "Length: 25860, dtype: object"
      ]
     },
     "metadata": {},
     "output_type": "display_data"
    }
   ],
   "source": [
    "df6 = df5.apply(lambda y:meteostat.series.fetch)\n",
    "display(df7)\n",
    "# display data\n",
    "# create new csv file to store such data in data file"
   ]
  },
  {
   "cell_type": "code",
   "execution_count": 94,
   "id": "32f2a212",
   "metadata": {},
   "outputs": [
    {
     "data": {
      "text/html": [
       "<div>\n",
       "<style scoped>\n",
       "    .dataframe tbody tr th:only-of-type {\n",
       "        vertical-align: middle;\n",
       "    }\n",
       "\n",
       "    .dataframe tbody tr th {\n",
       "        vertical-align: top;\n",
       "    }\n",
       "\n",
       "    .dataframe thead th {\n",
       "        text-align: right;\n",
       "    }\n",
       "</style>\n",
       "<table border=\"1\" class=\"dataframe\">\n",
       "  <thead>\n",
       "    <tr style=\"text-align: right;\">\n",
       "      <th></th>\n",
       "      <th>temp</th>\n",
       "      <th>dwpt</th>\n",
       "      <th>rhum</th>\n",
       "      <th>prcp</th>\n",
       "      <th>snow</th>\n",
       "      <th>wdir</th>\n",
       "      <th>wspd</th>\n",
       "      <th>wpgt</th>\n",
       "      <th>pres</th>\n",
       "      <th>tsun</th>\n",
       "      <th>coco</th>\n",
       "    </tr>\n",
       "    <tr>\n",
       "      <th>time</th>\n",
       "      <th></th>\n",
       "      <th></th>\n",
       "      <th></th>\n",
       "      <th></th>\n",
       "      <th></th>\n",
       "      <th></th>\n",
       "      <th></th>\n",
       "      <th></th>\n",
       "      <th></th>\n",
       "      <th></th>\n",
       "      <th></th>\n",
       "    </tr>\n",
       "  </thead>\n",
       "  <tbody>\n",
       "    <tr>\n",
       "      <th>2018-02-24 21:00:00</th>\n",
       "      <td>4.0</td>\n",
       "      <td>-3.1</td>\n",
       "      <td>60.0</td>\n",
       "      <td>NaN</td>\n",
       "      <td>NaN</td>\n",
       "      <td>70.0</td>\n",
       "      <td>13.0</td>\n",
       "      <td>NaN</td>\n",
       "      <td>1022.4</td>\n",
       "      <td>NaN</td>\n",
       "      <td>NaN</td>\n",
       "    </tr>\n",
       "  </tbody>\n",
       "</table>\n",
       "</div>"
      ],
      "text/plain": [
       "                     temp  dwpt  rhum  prcp  snow  wdir  wspd  wpgt    pres  \\\n",
       "time                                                                          \n",
       "2018-02-24 21:00:00   4.0  -3.1  60.0   NaN   NaN  70.0  13.0   NaN  1022.4   \n",
       "\n",
       "                     tsun  coco  \n",
       "time                             \n",
       "2018-02-24 21:00:00   NaN   NaN  "
      ]
     },
     "metadata": {},
     "output_type": "display_data"
    }
   ],
   "source": [
    "maxIndex = len(df5)\n",
    "display(df5[1].fetch())\n",
    "list = []\n",
    "for z in range(maxIndex):\n",
    "    list.append(df5[z].fetch())"
   ]
  },
  {
   "cell_type": "code",
   "execution_count": 95,
   "id": "950aeae9",
   "metadata": {
    "scrolled": true
   },
   "outputs": [],
   "source": [
    "dfWeather = pd.concat(list)"
   ]
  },
  {
   "cell_type": "code",
   "execution_count": 96,
   "id": "9202e0e3",
   "metadata": {},
   "outputs": [],
   "source": [
    "dfWeather.to_csv(\"Weather.csv\")"
   ]
  },
  {
   "cell_type": "code",
   "execution_count": 97,
   "id": "21709c27",
   "metadata": {},
   "outputs": [],
   "source": [
    "# problems: requesting data dropped some data from api\n",
    "# the time range ie) 10 mins before + 10 mins after or?\n",
    "# need to add comments\n",
    "# cannot identify which fires are which anymore because of the change in times"
   ]
  },
  {
   "cell_type": "code",
   "execution_count": null,
   "id": "0cb323bd",
   "metadata": {},
   "outputs": [],
   "source": []
  }
 ],
 "metadata": {
  "kernelspec": {
   "display_name": "Python 3 (ipykernel)",
   "language": "python",
   "name": "python3"
  },
  "language_info": {
   "codemirror_mode": {
    "name": "ipython",
    "version": 3
   },
   "file_extension": ".py",
   "mimetype": "text/x-python",
   "name": "python",
   "nbconvert_exporter": "python",
   "pygments_lexer": "ipython3",
   "version": "3.9.13"
  }
 },
 "nbformat": 4,
 "nbformat_minor": 5
}
