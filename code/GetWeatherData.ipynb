{
 "cells": [
  {
   "cell_type": "code",
   "execution_count": 1,
   "id": "b63841ce",
   "metadata": {},
   "outputs": [],
   "source": [
    "import pandas as pd\n",
    "import numpy as np"
   ]
  },
  {
   "cell_type": "code",
   "execution_count": 2,
   "id": "c87681ed",
   "metadata": {},
   "outputs": [],
   "source": [
    "import meteostat\n",
    "from meteostat import Hourly, Stations, Point\n",
    "from datetime import datetime, timedelta"
   ]
  },
  {
   "cell_type": "code",
   "execution_count": 3,
   "id": "5f7927ae",
   "metadata": {},
   "outputs": [],
   "source": [
    "df = pd.read_csv(\"../raw_data/fire_incidents_data.csv\")"
   ]
  },
  {
   "cell_type": "code",
   "execution_count": 4,
   "id": "509fcbcf",
   "metadata": {},
   "outputs": [],
   "source": [
    "td = timedelta(hours = 1)"
   ]
  },
  {
   "cell_type": "code",
   "execution_count": 5,
   "id": "8417da99",
   "metadata": {},
   "outputs": [
    {
     "data": {
      "text/html": [
       "<div>\n",
       "<style scoped>\n",
       "    .dataframe tbody tr th:only-of-type {\n",
       "        vertical-align: middle;\n",
       "    }\n",
       "\n",
       "    .dataframe tbody tr th {\n",
       "        vertical-align: top;\n",
       "    }\n",
       "\n",
       "    .dataframe thead th {\n",
       "        text-align: right;\n",
       "    }\n",
       "</style>\n",
       "<table border=\"1\" class=\"dataframe\">\n",
       "  <thead>\n",
       "    <tr style=\"text-align: right;\">\n",
       "      <th></th>\n",
       "      <th>TFS_Alarm_Time</th>\n",
       "      <th>Latitude</th>\n",
       "    </tr>\n",
       "  </thead>\n",
       "  <tbody>\n",
       "    <tr>\n",
       "      <th>0</th>\n",
       "      <td>2018-02-24T21:04:29</td>\n",
       "      <td>43.686558</td>\n",
       "    </tr>\n",
       "    <tr>\n",
       "      <th>1</th>\n",
       "      <td>2018-02-24T21:24:43</td>\n",
       "      <td>43.766135</td>\n",
       "    </tr>\n",
       "    <tr>\n",
       "      <th>2</th>\n",
       "      <td>2018-02-25T13:29:59</td>\n",
       "      <td>43.743230</td>\n",
       "    </tr>\n",
       "    <tr>\n",
       "      <th>3</th>\n",
       "      <td>2018-02-25T14:13:39</td>\n",
       "      <td>43.708659</td>\n",
       "    </tr>\n",
       "    <tr>\n",
       "      <th>4</th>\n",
       "      <td>2018-02-25T18:20:43</td>\n",
       "      <td>43.718118</td>\n",
       "    </tr>\n",
       "  </tbody>\n",
       "</table>\n",
       "</div>"
      ],
      "text/plain": [
       "        TFS_Alarm_Time   Latitude\n",
       "0  2018-02-24T21:04:29  43.686558\n",
       "1  2018-02-24T21:24:43  43.766135\n",
       "2  2018-02-25T13:29:59  43.743230\n",
       "3  2018-02-25T14:13:39  43.708659\n",
       "4  2018-02-25T18:20:43  43.718118"
      ]
     },
     "metadata": {},
     "output_type": "display_data"
    },
    {
     "name": "stdout",
     "output_type": "stream",
     "text": [
      "25860\n"
     ]
    }
   ],
   "source": [
    "location = pd.merge(df[\"TFS_Alarm_Time\"],df[\"Latitude\"], right_index = True,\n",
    "               left_index = True)\n",
    "display(location.head())\n",
    "print(len(location))"
   ]
  },
  {
   "cell_type": "code",
   "execution_count": 6,
   "id": "aad1fc6f",
   "metadata": {},
   "outputs": [
    {
     "data": {
      "text/html": [
       "<div>\n",
       "<style scoped>\n",
       "    .dataframe tbody tr th:only-of-type {\n",
       "        vertical-align: middle;\n",
       "    }\n",
       "\n",
       "    .dataframe tbody tr th {\n",
       "        vertical-align: top;\n",
       "    }\n",
       "\n",
       "    .dataframe thead th {\n",
       "        text-align: right;\n",
       "    }\n",
       "</style>\n",
       "<table border=\"1\" class=\"dataframe\">\n",
       "  <thead>\n",
       "    <tr style=\"text-align: right;\">\n",
       "      <th></th>\n",
       "      <th>TFS_Alarm_Time</th>\n",
       "      <th>Latitude</th>\n",
       "      <th>Longitude</th>\n",
       "    </tr>\n",
       "  </thead>\n",
       "  <tbody>\n",
       "    <tr>\n",
       "      <th>0</th>\n",
       "      <td>2018-02-24T21:04:29</td>\n",
       "      <td>43.686558</td>\n",
       "      <td>-79.599419</td>\n",
       "    </tr>\n",
       "    <tr>\n",
       "      <th>1</th>\n",
       "      <td>2018-02-24T21:24:43</td>\n",
       "      <td>43.766135</td>\n",
       "      <td>-79.390039</td>\n",
       "    </tr>\n",
       "    <tr>\n",
       "      <th>2</th>\n",
       "      <td>2018-02-25T13:29:59</td>\n",
       "      <td>43.743230</td>\n",
       "      <td>-79.245061</td>\n",
       "    </tr>\n",
       "    <tr>\n",
       "      <th>3</th>\n",
       "      <td>2018-02-25T14:13:39</td>\n",
       "      <td>43.708659</td>\n",
       "      <td>-79.478062</td>\n",
       "    </tr>\n",
       "    <tr>\n",
       "      <th>4</th>\n",
       "      <td>2018-02-25T18:20:43</td>\n",
       "      <td>43.718118</td>\n",
       "      <td>-79.443184</td>\n",
       "    </tr>\n",
       "  </tbody>\n",
       "</table>\n",
       "</div>"
      ],
      "text/plain": [
       "        TFS_Alarm_Time   Latitude  Longitude\n",
       "0  2018-02-24T21:04:29  43.686558 -79.599419\n",
       "1  2018-02-24T21:24:43  43.766135 -79.390039\n",
       "2  2018-02-25T13:29:59  43.743230 -79.245061\n",
       "3  2018-02-25T14:13:39  43.708659 -79.478062\n",
       "4  2018-02-25T18:20:43  43.718118 -79.443184"
      ]
     },
     "metadata": {},
     "output_type": "display_data"
    }
   ],
   "source": [
    "dfDim = pd.concat([location, df[\"Longitude\"]], axis = 1)\n",
    "display(dfDim.head())"
   ]
  },
  {
   "cell_type": "code",
   "execution_count": 7,
   "id": "b44cca41",
   "metadata": {},
   "outputs": [
    {
     "data": {
      "text/html": [
       "<div>\n",
       "<style scoped>\n",
       "    .dataframe tbody tr th:only-of-type {\n",
       "        vertical-align: middle;\n",
       "    }\n",
       "\n",
       "    .dataframe tbody tr th {\n",
       "        vertical-align: top;\n",
       "    }\n",
       "\n",
       "    .dataframe thead th {\n",
       "        text-align: right;\n",
       "    }\n",
       "</style>\n",
       "<table border=\"1\" class=\"dataframe\">\n",
       "  <thead>\n",
       "    <tr style=\"text-align: right;\">\n",
       "      <th></th>\n",
       "      <th>TFS_Alarm_Time</th>\n",
       "      <th>Latitude</th>\n",
       "      <th>Longitude</th>\n",
       "    </tr>\n",
       "  </thead>\n",
       "  <tbody>\n",
       "    <tr>\n",
       "      <th>0</th>\n",
       "      <td>2018-02-24T21:04:29</td>\n",
       "      <td>43.686558</td>\n",
       "      <td>-79.599419</td>\n",
       "    </tr>\n",
       "    <tr>\n",
       "      <th>1</th>\n",
       "      <td>2018-02-24T21:24:43</td>\n",
       "      <td>43.766135</td>\n",
       "      <td>-79.390039</td>\n",
       "    </tr>\n",
       "    <tr>\n",
       "      <th>2</th>\n",
       "      <td>2018-02-25T13:29:59</td>\n",
       "      <td>43.743230</td>\n",
       "      <td>-79.245061</td>\n",
       "    </tr>\n",
       "    <tr>\n",
       "      <th>3</th>\n",
       "      <td>2018-02-25T14:13:39</td>\n",
       "      <td>43.708659</td>\n",
       "      <td>-79.478062</td>\n",
       "    </tr>\n",
       "    <tr>\n",
       "      <th>4</th>\n",
       "      <td>2018-02-25T18:20:43</td>\n",
       "      <td>43.718118</td>\n",
       "      <td>-79.443184</td>\n",
       "    </tr>\n",
       "  </tbody>\n",
       "</table>\n",
       "</div>"
      ],
      "text/plain": [
       "        TFS_Alarm_Time   Latitude  Longitude\n",
       "0  2018-02-24T21:04:29  43.686558 -79.599419\n",
       "1  2018-02-24T21:24:43  43.766135 -79.390039\n",
       "2  2018-02-25T13:29:59  43.743230 -79.245061\n",
       "3  2018-02-25T14:13:39  43.708659 -79.478062\n",
       "4  2018-02-25T18:20:43  43.718118 -79.443184"
      ]
     },
     "metadata": {},
     "output_type": "display_data"
    },
    {
     "name": "stdout",
     "output_type": "stream",
     "text": [
      "25858\n"
     ]
    }
   ],
   "source": [
    "dfDim = dfDim.dropna()\n",
    "display(dfDim.head())\n",
    "print(len(dfDim))"
   ]
  },
  {
   "cell_type": "code",
   "execution_count": 8,
   "id": "d03754e1",
   "metadata": {
    "scrolled": true
   },
   "outputs": [
    {
     "data": {
      "text/plain": [
       "0    20180224210429\n",
       "1    20180224212443\n",
       "2    20180225132959\n",
       "3    20180225141339\n",
       "4    20180225182043\n",
       "Name: TFS_Alarm_Time, dtype: object"
      ]
     },
     "metadata": {},
     "output_type": "display_data"
    }
   ],
   "source": [
    "timeKey = dfDim[\"TFS_Alarm_Time\"]\n",
    "timeKey = timeKey.apply(lambda x: str(x))\n",
    "timeKey = timeKey.apply(lambda x:x.replace(\"-\", \"\"))\n",
    "timeKey = timeKey.apply(lambda x:x.replace(\":\", \"\"))\n",
    "timeKey = timeKey.apply(lambda x:x.replace(\" \", \"\"))\n",
    "timeKey = timeKey.apply(lambda x:x.replace(\"T\", \"\"))\n",
    "display(timeKey.head())"
   ]
  },
  {
   "cell_type": "code",
   "execution_count": 9,
   "id": "47255fa9",
   "metadata": {},
   "outputs": [
    {
     "data": {
      "text/plain": [
       "0    43.686558\n",
       "1    43.766135\n",
       "2    43.743230\n",
       "3    43.708659\n",
       "4    43.718118\n",
       "Name: Latitude, dtype: float64"
      ]
     },
     "metadata": {},
     "output_type": "display_data"
    },
    {
     "name": "stdout",
     "output_type": "stream",
     "text": [
      "25858\n"
     ]
    }
   ],
   "source": [
    "latKey = dfDim[\"Latitude\"]\n",
    "longKey = dfDim[\"Longitude\"]\n",
    "display(latKey.head())\n",
    "print(len(latKey))"
   ]
  },
  {
   "cell_type": "code",
   "execution_count": 10,
   "id": "c53d43d6",
   "metadata": {
    "scrolled": false
   },
   "outputs": [
    {
     "data": {
      "text/plain": [
       "0    0.686558\n",
       "1    0.766135\n",
       "2    0.743230\n",
       "3    0.708659\n",
       "4    0.718118\n",
       "Name: Latitude, dtype: float64"
      ]
     },
     "metadata": {},
     "output_type": "display_data"
    }
   ],
   "source": [
    "latKey = latKey.apply(lambda x: x-43)\n",
    "display(latKey.head())"
   ]
  },
  {
   "cell_type": "code",
   "execution_count": 11,
   "id": "2d5677d8",
   "metadata": {},
   "outputs": [
    {
     "data": {
      "text/plain": [
       "0    6865.58177\n",
       "1    7661.34782\n",
       "2    7432.30192\n",
       "3    7086.59308\n",
       "4    7181.18427\n",
       "Name: Latitude, dtype: float64"
      ]
     },
     "metadata": {},
     "output_type": "display_data"
    }
   ],
   "source": [
    "latKey = latKey.apply(lambda x:x*10000)\n",
    "display(latKey.head())"
   ]
  },
  {
   "cell_type": "code",
   "execution_count": 12,
   "id": "8a01d7e2",
   "metadata": {
    "scrolled": true
   },
   "outputs": [
    {
     "data": {
      "text/plain": [
       "0    6865\n",
       "1    7661\n",
       "2    7432\n",
       "3    7086\n",
       "4    7181\n",
       "Name: Latitude, dtype: int64"
      ]
     },
     "metadata": {},
     "output_type": "display_data"
    }
   ],
   "source": [
    "latKey = latKey.apply(lambda x: int(x))\n",
    "display(latKey.head())"
   ]
  },
  {
   "cell_type": "code",
   "execution_count": 13,
   "id": "accf7dc7",
   "metadata": {},
   "outputs": [
    {
     "data": {
      "text/plain": [
       "0   -79.599419\n",
       "1   -79.390039\n",
       "2   -79.245061\n",
       "3   -79.478062\n",
       "4   -79.443184\n",
       "Name: Longitude, dtype: float64"
      ]
     },
     "metadata": {},
     "output_type": "display_data"
    }
   ],
   "source": [
    "display(longKey.head())"
   ]
  },
  {
   "cell_type": "code",
   "execution_count": 14,
   "id": "ecc820c5",
   "metadata": {},
   "outputs": [
    {
     "data": {
      "text/plain": [
       "0   -0.599419\n",
       "1   -0.390039\n",
       "2   -0.245061\n",
       "3   -0.478062\n",
       "4   -0.443184\n",
       "Name: Longitude, dtype: float64"
      ]
     },
     "metadata": {},
     "output_type": "display_data"
    }
   ],
   "source": [
    "longKey = longKey.apply(lambda x:x+79)\n",
    "display(longKey.head())"
   ]
  },
  {
   "cell_type": "code",
   "execution_count": 15,
   "id": "e83a81ec",
   "metadata": {},
   "outputs": [
    {
     "data": {
      "text/plain": [
       "0    0.599419\n",
       "1    0.390039\n",
       "2    0.245061\n",
       "3    0.478062\n",
       "4    0.443184\n",
       "Name: Longitude, dtype: float64"
      ]
     },
     "metadata": {},
     "output_type": "display_data"
    }
   ],
   "source": [
    "longKey = longKey.apply(lambda x:abs(x))\n",
    "display(longKey.head())"
   ]
  },
  {
   "cell_type": "code",
   "execution_count": 16,
   "id": "790907f2",
   "metadata": {},
   "outputs": [
    {
     "data": {
      "text/plain": [
       "0    5994\n",
       "1    3900\n",
       "2    2450\n",
       "3    4780\n",
       "4    4431\n",
       "Name: Longitude, dtype: int64"
      ]
     },
     "metadata": {},
     "output_type": "display_data"
    }
   ],
   "source": [
    "longKey = longKey.apply(lambda x:x*10000)\n",
    "longKey = longKey.apply(lambda x:int(x))\n",
    "display(longKey.head())"
   ]
  },
  {
   "cell_type": "code",
   "execution_count": 17,
   "id": "79b65a55",
   "metadata": {},
   "outputs": [
    {
     "name": "stdout",
     "output_type": "stream",
     "text": [
      "<class 'str'>\n"
     ]
    }
   ],
   "source": [
    "longKey = longKey.apply(lambda x: str(x))\n",
    "latKey = latKey.apply(lambda x: str(x))\n",
    "print(type(latKey[0]))"
   ]
  },
  {
   "cell_type": "code",
   "execution_count": 18,
   "id": "29c82be4",
   "metadata": {
    "scrolled": true
   },
   "outputs": [
    {
     "data": {
      "text/html": [
       "<div>\n",
       "<style scoped>\n",
       "    .dataframe tbody tr th:only-of-type {\n",
       "        vertical-align: middle;\n",
       "    }\n",
       "\n",
       "    .dataframe tbody tr th {\n",
       "        vertical-align: top;\n",
       "    }\n",
       "\n",
       "    .dataframe thead th {\n",
       "        text-align: right;\n",
       "    }\n",
       "</style>\n",
       "<table border=\"1\" class=\"dataframe\">\n",
       "  <thead>\n",
       "    <tr style=\"text-align: right;\">\n",
       "      <th></th>\n",
       "      <th>TFS_Alarm_Time</th>\n",
       "      <th>Latitude</th>\n",
       "      <th>Longitude</th>\n",
       "    </tr>\n",
       "  </thead>\n",
       "  <tbody>\n",
       "    <tr>\n",
       "      <th>0</th>\n",
       "      <td>20180224210429</td>\n",
       "      <td>6865</td>\n",
       "      <td>5994</td>\n",
       "    </tr>\n",
       "    <tr>\n",
       "      <th>1</th>\n",
       "      <td>20180224212443</td>\n",
       "      <td>7661</td>\n",
       "      <td>3900</td>\n",
       "    </tr>\n",
       "    <tr>\n",
       "      <th>2</th>\n",
       "      <td>20180225132959</td>\n",
       "      <td>7432</td>\n",
       "      <td>2450</td>\n",
       "    </tr>\n",
       "    <tr>\n",
       "      <th>3</th>\n",
       "      <td>20180225141339</td>\n",
       "      <td>7086</td>\n",
       "      <td>4780</td>\n",
       "    </tr>\n",
       "    <tr>\n",
       "      <th>4</th>\n",
       "      <td>20180225182043</td>\n",
       "      <td>7181</td>\n",
       "      <td>4431</td>\n",
       "    </tr>\n",
       "  </tbody>\n",
       "</table>\n",
       "</div>"
      ],
      "text/plain": [
       "   TFS_Alarm_Time Latitude Longitude\n",
       "0  20180224210429     6865      5994\n",
       "1  20180224212443     7661      3900\n",
       "2  20180225132959     7432      2450\n",
       "3  20180225141339     7086      4780\n",
       "4  20180225182043     7181      4431"
      ]
     },
     "metadata": {},
     "output_type": "display_data"
    }
   ],
   "source": [
    "weatherKey = pd.concat([timeKey, latKey, longKey], axis = 1)\n",
    "display(weatherKey.head())"
   ]
  },
  {
   "cell_type": "code",
   "execution_count": 19,
   "id": "38acd866",
   "metadata": {
    "scrolled": false
   },
   "outputs": [
    {
     "data": {
      "text/html": [
       "<div>\n",
       "<style scoped>\n",
       "    .dataframe tbody tr th:only-of-type {\n",
       "        vertical-align: middle;\n",
       "    }\n",
       "\n",
       "    .dataframe tbody tr th {\n",
       "        vertical-align: top;\n",
       "    }\n",
       "\n",
       "    .dataframe thead th {\n",
       "        text-align: right;\n",
       "    }\n",
       "</style>\n",
       "<table border=\"1\" class=\"dataframe\">\n",
       "  <thead>\n",
       "    <tr style=\"text-align: right;\">\n",
       "      <th></th>\n",
       "      <th>TFS_Alarm_Time</th>\n",
       "      <th>Latitude</th>\n",
       "      <th>Longitude</th>\n",
       "      <th>Key</th>\n",
       "    </tr>\n",
       "  </thead>\n",
       "  <tbody>\n",
       "    <tr>\n",
       "      <th>0</th>\n",
       "      <td>20180224210429</td>\n",
       "      <td>6865</td>\n",
       "      <td>5994</td>\n",
       "      <td>2018022421042968655994</td>\n",
       "    </tr>\n",
       "    <tr>\n",
       "      <th>1</th>\n",
       "      <td>20180224212443</td>\n",
       "      <td>7661</td>\n",
       "      <td>3900</td>\n",
       "      <td>2018022421244376613900</td>\n",
       "    </tr>\n",
       "    <tr>\n",
       "      <th>2</th>\n",
       "      <td>20180225132959</td>\n",
       "      <td>7432</td>\n",
       "      <td>2450</td>\n",
       "      <td>2018022513295974322450</td>\n",
       "    </tr>\n",
       "    <tr>\n",
       "      <th>3</th>\n",
       "      <td>20180225141339</td>\n",
       "      <td>7086</td>\n",
       "      <td>4780</td>\n",
       "      <td>2018022514133970864780</td>\n",
       "    </tr>\n",
       "    <tr>\n",
       "      <th>4</th>\n",
       "      <td>20180225182043</td>\n",
       "      <td>7181</td>\n",
       "      <td>4431</td>\n",
       "      <td>2018022518204371814431</td>\n",
       "    </tr>\n",
       "  </tbody>\n",
       "</table>\n",
       "</div>"
      ],
      "text/plain": [
       "   TFS_Alarm_Time Latitude Longitude                     Key\n",
       "0  20180224210429     6865      5994  2018022421042968655994\n",
       "1  20180224212443     7661      3900  2018022421244376613900\n",
       "2  20180225132959     7432      2450  2018022513295974322450\n",
       "3  20180225141339     7086      4780  2018022514133970864780\n",
       "4  20180225182043     7181      4431  2018022518204371814431"
      ]
     },
     "metadata": {},
     "output_type": "display_data"
    }
   ],
   "source": [
    "weatherKey[\"Key\"] = weatherKey.apply(lambda x:x[\"TFS_Alarm_Time\"]+x[\"Latitude\"]+x[\"Longitude\"], axis = 1)\n",
    "display(weatherKey.head())"
   ]
  },
  {
   "cell_type": "code",
   "execution_count": 20,
   "id": "1cad1da4",
   "metadata": {
    "scrolled": true
   },
   "outputs": [
    {
     "data": {
      "text/html": [
       "<div>\n",
       "<style scoped>\n",
       "    .dataframe tbody tr th:only-of-type {\n",
       "        vertical-align: middle;\n",
       "    }\n",
       "\n",
       "    .dataframe tbody tr th {\n",
       "        vertical-align: top;\n",
       "    }\n",
       "\n",
       "    .dataframe thead th {\n",
       "        text-align: right;\n",
       "    }\n",
       "</style>\n",
       "<table border=\"1\" class=\"dataframe\">\n",
       "  <thead>\n",
       "    <tr style=\"text-align: right;\">\n",
       "      <th></th>\n",
       "      <th>Key</th>\n",
       "    </tr>\n",
       "  </thead>\n",
       "  <tbody>\n",
       "    <tr>\n",
       "      <th>0</th>\n",
       "      <td>2018022421042968655994</td>\n",
       "    </tr>\n",
       "    <tr>\n",
       "      <th>1</th>\n",
       "      <td>2018022421244376613900</td>\n",
       "    </tr>\n",
       "    <tr>\n",
       "      <th>2</th>\n",
       "      <td>2018022513295974322450</td>\n",
       "    </tr>\n",
       "    <tr>\n",
       "      <th>3</th>\n",
       "      <td>2018022514133970864780</td>\n",
       "    </tr>\n",
       "    <tr>\n",
       "      <th>4</th>\n",
       "      <td>2018022518204371814431</td>\n",
       "    </tr>\n",
       "  </tbody>\n",
       "</table>\n",
       "</div>"
      ],
      "text/plain": [
       "                      Key\n",
       "0  2018022421042968655994\n",
       "1  2018022421244376613900\n",
       "2  2018022513295974322450\n",
       "3  2018022514133970864780\n",
       "4  2018022518204371814431"
      ]
     },
     "metadata": {},
     "output_type": "display_data"
    }
   ],
   "source": [
    "weatherKey = weatherKey[[\"Key\"]]\n",
    "display(weatherKey.head())"
   ]
  },
  {
   "cell_type": "code",
   "execution_count": 21,
   "id": "6c381524",
   "metadata": {},
   "outputs": [
    {
     "data": {
      "text/html": [
       "<div>\n",
       "<style scoped>\n",
       "    .dataframe tbody tr th:only-of-type {\n",
       "        vertical-align: middle;\n",
       "    }\n",
       "\n",
       "    .dataframe tbody tr th {\n",
       "        vertical-align: top;\n",
       "    }\n",
       "\n",
       "    .dataframe thead th {\n",
       "        text-align: right;\n",
       "    }\n",
       "</style>\n",
       "<table border=\"1\" class=\"dataframe\">\n",
       "  <thead>\n",
       "    <tr style=\"text-align: right;\">\n",
       "      <th></th>\n",
       "      <th>Key</th>\n",
       "      <th>TFS_Alarm_Time</th>\n",
       "      <th>Latitude</th>\n",
       "      <th>Longitude</th>\n",
       "    </tr>\n",
       "  </thead>\n",
       "  <tbody>\n",
       "    <tr>\n",
       "      <th>0</th>\n",
       "      <td>2018022421042968655994</td>\n",
       "      <td>2018-02-24T21:04:29</td>\n",
       "      <td>43.686558</td>\n",
       "      <td>-79.599419</td>\n",
       "    </tr>\n",
       "    <tr>\n",
       "      <th>1</th>\n",
       "      <td>2018022421244376613900</td>\n",
       "      <td>2018-02-24T21:24:43</td>\n",
       "      <td>43.766135</td>\n",
       "      <td>-79.390039</td>\n",
       "    </tr>\n",
       "    <tr>\n",
       "      <th>2</th>\n",
       "      <td>2018022513295974322450</td>\n",
       "      <td>2018-02-25T13:29:59</td>\n",
       "      <td>43.743230</td>\n",
       "      <td>-79.245061</td>\n",
       "    </tr>\n",
       "    <tr>\n",
       "      <th>3</th>\n",
       "      <td>2018022514133970864780</td>\n",
       "      <td>2018-02-25T14:13:39</td>\n",
       "      <td>43.708659</td>\n",
       "      <td>-79.478062</td>\n",
       "    </tr>\n",
       "    <tr>\n",
       "      <th>4</th>\n",
       "      <td>2018022518204371814431</td>\n",
       "      <td>2018-02-25T18:20:43</td>\n",
       "      <td>43.718118</td>\n",
       "      <td>-79.443184</td>\n",
       "    </tr>\n",
       "  </tbody>\n",
       "</table>\n",
       "</div>"
      ],
      "text/plain": [
       "                      Key       TFS_Alarm_Time   Latitude  Longitude\n",
       "0  2018022421042968655994  2018-02-24T21:04:29  43.686558 -79.599419\n",
       "1  2018022421244376613900  2018-02-24T21:24:43  43.766135 -79.390039\n",
       "2  2018022513295974322450  2018-02-25T13:29:59  43.743230 -79.245061\n",
       "3  2018022514133970864780  2018-02-25T14:13:39  43.708659 -79.478062\n",
       "4  2018022518204371814431  2018-02-25T18:20:43  43.718118 -79.443184"
      ]
     },
     "metadata": {},
     "output_type": "display_data"
    }
   ],
   "source": [
    "weatherData = pd.concat([weatherKey, dfDim], axis = 1)\n",
    "display(weatherData.head())"
   ]
  },
  {
   "cell_type": "code",
   "execution_count": 22,
   "id": "17693381",
   "metadata": {
    "scrolled": true
   },
   "outputs": [
    {
     "name": "stdout",
     "output_type": "stream",
     "text": [
      "<class 'str'>\n"
     ]
    }
   ],
   "source": [
    "print(type(weatherData[\"TFS_Alarm_Time\"][0]))"
   ]
  },
  {
   "cell_type": "code",
   "execution_count": 23,
   "id": "04bf3a92",
   "metadata": {
    "scrolled": false
   },
   "outputs": [
    {
     "data": {
      "text/html": [
       "<div>\n",
       "<style scoped>\n",
       "    .dataframe tbody tr th:only-of-type {\n",
       "        vertical-align: middle;\n",
       "    }\n",
       "\n",
       "    .dataframe tbody tr th {\n",
       "        vertical-align: top;\n",
       "    }\n",
       "\n",
       "    .dataframe thead th {\n",
       "        text-align: right;\n",
       "    }\n",
       "</style>\n",
       "<table border=\"1\" class=\"dataframe\">\n",
       "  <thead>\n",
       "    <tr style=\"text-align: right;\">\n",
       "      <th></th>\n",
       "      <th>Key</th>\n",
       "      <th>TFS_Alarm_Time</th>\n",
       "      <th>Latitude</th>\n",
       "      <th>Longitude</th>\n",
       "    </tr>\n",
       "  </thead>\n",
       "  <tbody>\n",
       "    <tr>\n",
       "      <th>0</th>\n",
       "      <td>2018022421042968655994</td>\n",
       "      <td>2018-02-24 21:04:29</td>\n",
       "      <td>43.686558</td>\n",
       "      <td>-79.599419</td>\n",
       "    </tr>\n",
       "    <tr>\n",
       "      <th>1</th>\n",
       "      <td>2018022421244376613900</td>\n",
       "      <td>2018-02-24 21:24:43</td>\n",
       "      <td>43.766135</td>\n",
       "      <td>-79.390039</td>\n",
       "    </tr>\n",
       "    <tr>\n",
       "      <th>2</th>\n",
       "      <td>2018022513295974322450</td>\n",
       "      <td>2018-02-25 13:29:59</td>\n",
       "      <td>43.743230</td>\n",
       "      <td>-79.245061</td>\n",
       "    </tr>\n",
       "    <tr>\n",
       "      <th>3</th>\n",
       "      <td>2018022514133970864780</td>\n",
       "      <td>2018-02-25 14:13:39</td>\n",
       "      <td>43.708659</td>\n",
       "      <td>-79.478062</td>\n",
       "    </tr>\n",
       "    <tr>\n",
       "      <th>4</th>\n",
       "      <td>2018022518204371814431</td>\n",
       "      <td>2018-02-25 18:20:43</td>\n",
       "      <td>43.718118</td>\n",
       "      <td>-79.443184</td>\n",
       "    </tr>\n",
       "  </tbody>\n",
       "</table>\n",
       "</div>"
      ],
      "text/plain": [
       "                      Key      TFS_Alarm_Time   Latitude  Longitude\n",
       "0  2018022421042968655994 2018-02-24 21:04:29  43.686558 -79.599419\n",
       "1  2018022421244376613900 2018-02-24 21:24:43  43.766135 -79.390039\n",
       "2  2018022513295974322450 2018-02-25 13:29:59  43.743230 -79.245061\n",
       "3  2018022514133970864780 2018-02-25 14:13:39  43.708659 -79.478062\n",
       "4  2018022518204371814431 2018-02-25 18:20:43  43.718118 -79.443184"
      ]
     },
     "metadata": {},
     "output_type": "display_data"
    },
    {
     "name": "stdout",
     "output_type": "stream",
     "text": [
      "<class 'pandas._libs.tslibs.timestamps.Timestamp'>\n"
     ]
    }
   ],
   "source": [
    "weatherData[\"TFS_Alarm_Time\"] = weatherData[\"TFS_Alarm_Time\"].apply(lambda x:datetime.strptime(x, '%Y-%m-%dT%H:%M:%S'))\n",
    "display(weatherData.head())\n",
    "print(type(weatherData[\"TFS_Alarm_Time\"][0]))"
   ]
  },
  {
   "cell_type": "code",
   "execution_count": 24,
   "id": "95308e23",
   "metadata": {
    "scrolled": true
   },
   "outputs": [
    {
     "data": {
      "text/html": [
       "<div>\n",
       "<style scoped>\n",
       "    .dataframe tbody tr th:only-of-type {\n",
       "        vertical-align: middle;\n",
       "    }\n",
       "\n",
       "    .dataframe tbody tr th {\n",
       "        vertical-align: top;\n",
       "    }\n",
       "\n",
       "    .dataframe thead th {\n",
       "        text-align: right;\n",
       "    }\n",
       "</style>\n",
       "<table border=\"1\" class=\"dataframe\">\n",
       "  <thead>\n",
       "    <tr style=\"text-align: right;\">\n",
       "      <th></th>\n",
       "      <th>Key</th>\n",
       "      <th>TFS_Alarm_Time</th>\n",
       "      <th>Latitude</th>\n",
       "      <th>Longitude</th>\n",
       "      <th>StartTime</th>\n",
       "    </tr>\n",
       "  </thead>\n",
       "  <tbody>\n",
       "    <tr>\n",
       "      <th>0</th>\n",
       "      <td>2018022421042968655994</td>\n",
       "      <td>2018-02-24 21:04:29</td>\n",
       "      <td>43.686558</td>\n",
       "      <td>-79.599419</td>\n",
       "      <td>2018-02-24 21:00:00</td>\n",
       "    </tr>\n",
       "    <tr>\n",
       "      <th>1</th>\n",
       "      <td>2018022421244376613900</td>\n",
       "      <td>2018-02-24 21:24:43</td>\n",
       "      <td>43.766135</td>\n",
       "      <td>-79.390039</td>\n",
       "      <td>2018-02-24 21:00:00</td>\n",
       "    </tr>\n",
       "    <tr>\n",
       "      <th>2</th>\n",
       "      <td>2018022513295974322450</td>\n",
       "      <td>2018-02-25 13:29:59</td>\n",
       "      <td>43.743230</td>\n",
       "      <td>-79.245061</td>\n",
       "      <td>2018-02-25 13:00:00</td>\n",
       "    </tr>\n",
       "    <tr>\n",
       "      <th>3</th>\n",
       "      <td>2018022514133970864780</td>\n",
       "      <td>2018-02-25 14:13:39</td>\n",
       "      <td>43.708659</td>\n",
       "      <td>-79.478062</td>\n",
       "      <td>2018-02-25 14:00:00</td>\n",
       "    </tr>\n",
       "    <tr>\n",
       "      <th>4</th>\n",
       "      <td>2018022518204371814431</td>\n",
       "      <td>2018-02-25 18:20:43</td>\n",
       "      <td>43.718118</td>\n",
       "      <td>-79.443184</td>\n",
       "      <td>2018-02-25 18:00:00</td>\n",
       "    </tr>\n",
       "  </tbody>\n",
       "</table>\n",
       "</div>"
      ],
      "text/plain": [
       "                      Key      TFS_Alarm_Time   Latitude  Longitude  \\\n",
       "0  2018022421042968655994 2018-02-24 21:04:29  43.686558 -79.599419   \n",
       "1  2018022421244376613900 2018-02-24 21:24:43  43.766135 -79.390039   \n",
       "2  2018022513295974322450 2018-02-25 13:29:59  43.743230 -79.245061   \n",
       "3  2018022514133970864780 2018-02-25 14:13:39  43.708659 -79.478062   \n",
       "4  2018022518204371814431 2018-02-25 18:20:43  43.718118 -79.443184   \n",
       "\n",
       "            StartTime  \n",
       "0 2018-02-24 21:00:00  \n",
       "1 2018-02-24 21:00:00  \n",
       "2 2018-02-25 13:00:00  \n",
       "3 2018-02-25 14:00:00  \n",
       "4 2018-02-25 18:00:00  "
      ]
     },
     "metadata": {},
     "output_type": "display_data"
    }
   ],
   "source": [
    "weatherData[\"StartTime\"] = weatherData[\"TFS_Alarm_Time\"].apply(lambda dt:dt.replace(second=0, microsecond=0, minute=0))\n",
    "display(weatherData.head())"
   ]
  },
  {
   "cell_type": "code",
   "execution_count": 26,
   "id": "7cd31191",
   "metadata": {},
   "outputs": [
    {
     "data": {
      "text/html": [
       "<div>\n",
       "<style scoped>\n",
       "    .dataframe tbody tr th:only-of-type {\n",
       "        vertical-align: middle;\n",
       "    }\n",
       "\n",
       "    .dataframe tbody tr th {\n",
       "        vertical-align: top;\n",
       "    }\n",
       "\n",
       "    .dataframe thead th {\n",
       "        text-align: right;\n",
       "    }\n",
       "</style>\n",
       "<table border=\"1\" class=\"dataframe\">\n",
       "  <thead>\n",
       "    <tr style=\"text-align: right;\">\n",
       "      <th></th>\n",
       "      <th>Key</th>\n",
       "      <th>TFS_Alarm_Time</th>\n",
       "      <th>Latitude</th>\n",
       "      <th>Longitude</th>\n",
       "      <th>StartTime</th>\n",
       "      <th>EndTime</th>\n",
       "    </tr>\n",
       "  </thead>\n",
       "  <tbody>\n",
       "    <tr>\n",
       "      <th>0</th>\n",
       "      <td>2018022421042968655994</td>\n",
       "      <td>2018-02-24 21:04:29</td>\n",
       "      <td>43.686558</td>\n",
       "      <td>-79.599419</td>\n",
       "      <td>2018-02-24 21:00:00</td>\n",
       "      <td>2018-02-24 22:00:00</td>\n",
       "    </tr>\n",
       "    <tr>\n",
       "      <th>1</th>\n",
       "      <td>2018022421244376613900</td>\n",
       "      <td>2018-02-24 21:24:43</td>\n",
       "      <td>43.766135</td>\n",
       "      <td>-79.390039</td>\n",
       "      <td>2018-02-24 21:00:00</td>\n",
       "      <td>2018-02-24 22:00:00</td>\n",
       "    </tr>\n",
       "    <tr>\n",
       "      <th>2</th>\n",
       "      <td>2018022513295974322450</td>\n",
       "      <td>2018-02-25 13:29:59</td>\n",
       "      <td>43.743230</td>\n",
       "      <td>-79.245061</td>\n",
       "      <td>2018-02-25 13:00:00</td>\n",
       "      <td>2018-02-25 14:00:00</td>\n",
       "    </tr>\n",
       "    <tr>\n",
       "      <th>3</th>\n",
       "      <td>2018022514133970864780</td>\n",
       "      <td>2018-02-25 14:13:39</td>\n",
       "      <td>43.708659</td>\n",
       "      <td>-79.478062</td>\n",
       "      <td>2018-02-25 14:00:00</td>\n",
       "      <td>2018-02-25 15:00:00</td>\n",
       "    </tr>\n",
       "    <tr>\n",
       "      <th>4</th>\n",
       "      <td>2018022518204371814431</td>\n",
       "      <td>2018-02-25 18:20:43</td>\n",
       "      <td>43.718118</td>\n",
       "      <td>-79.443184</td>\n",
       "      <td>2018-02-25 18:00:00</td>\n",
       "      <td>2018-02-25 19:00:00</td>\n",
       "    </tr>\n",
       "  </tbody>\n",
       "</table>\n",
       "</div>"
      ],
      "text/plain": [
       "                      Key      TFS_Alarm_Time   Latitude  Longitude  \\\n",
       "0  2018022421042968655994 2018-02-24 21:04:29  43.686558 -79.599419   \n",
       "1  2018022421244376613900 2018-02-24 21:24:43  43.766135 -79.390039   \n",
       "2  2018022513295974322450 2018-02-25 13:29:59  43.743230 -79.245061   \n",
       "3  2018022514133970864780 2018-02-25 14:13:39  43.708659 -79.478062   \n",
       "4  2018022518204371814431 2018-02-25 18:20:43  43.718118 -79.443184   \n",
       "\n",
       "            StartTime             EndTime  \n",
       "0 2018-02-24 21:00:00 2018-02-24 22:00:00  \n",
       "1 2018-02-24 21:00:00 2018-02-24 22:00:00  \n",
       "2 2018-02-25 13:00:00 2018-02-25 14:00:00  \n",
       "3 2018-02-25 14:00:00 2018-02-25 15:00:00  \n",
       "4 2018-02-25 18:00:00 2018-02-25 19:00:00  "
      ]
     },
     "metadata": {},
     "output_type": "display_data"
    }
   ],
   "source": [
    "weatherData[\"EndTime\"] = weatherData[\"StartTime\"].apply(lambda x:x+td)\n",
    "display(weatherData.head())"
   ]
  },
  {
   "cell_type": "code",
   "execution_count": 27,
   "id": "684bf6b5",
   "metadata": {
    "scrolled": true
   },
   "outputs": [
    {
     "data": {
      "text/plain": [
       "0    <meteostat.interface.point.Point object at 0x0...\n",
       "1    <meteostat.interface.point.Point object at 0x0...\n",
       "2    <meteostat.interface.point.Point object at 0x0...\n",
       "3    <meteostat.interface.point.Point object at 0x0...\n",
       "4    <meteostat.interface.point.Point object at 0x0...\n",
       "dtype: object"
      ]
     },
     "metadata": {},
     "output_type": "display_data"
    }
   ],
   "source": [
    "dfPoints = weatherData.apply(lambda x:meteostat.Point(x[\"Latitude\"], x[\"Longitude\"]), axis = 1)\n",
    "display(dfPoints.head())"
   ]
  },
  {
   "cell_type": "code",
   "execution_count": 28,
   "id": "54a9541b",
   "metadata": {},
   "outputs": [
    {
     "data": {
      "text/html": [
       "<div>\n",
       "<style scoped>\n",
       "    .dataframe tbody tr th:only-of-type {\n",
       "        vertical-align: middle;\n",
       "    }\n",
       "\n",
       "    .dataframe tbody tr th {\n",
       "        vertical-align: top;\n",
       "    }\n",
       "\n",
       "    .dataframe thead th {\n",
       "        text-align: right;\n",
       "    }\n",
       "</style>\n",
       "<table border=\"1\" class=\"dataframe\">\n",
       "  <thead>\n",
       "    <tr style=\"text-align: right;\">\n",
       "      <th></th>\n",
       "      <th>Points</th>\n",
       "      <th>StartTime</th>\n",
       "      <th>EndTime</th>\n",
       "    </tr>\n",
       "  </thead>\n",
       "  <tbody>\n",
       "    <tr>\n",
       "      <th>0</th>\n",
       "      <td>&lt;meteostat.interface.point.Point object at 0x0...</td>\n",
       "      <td>2018-02-24 21:00:00</td>\n",
       "      <td>2018-02-24 22:00:00</td>\n",
       "    </tr>\n",
       "    <tr>\n",
       "      <th>1</th>\n",
       "      <td>&lt;meteostat.interface.point.Point object at 0x0...</td>\n",
       "      <td>2018-02-24 21:00:00</td>\n",
       "      <td>2018-02-24 22:00:00</td>\n",
       "    </tr>\n",
       "    <tr>\n",
       "      <th>2</th>\n",
       "      <td>&lt;meteostat.interface.point.Point object at 0x0...</td>\n",
       "      <td>2018-02-25 13:00:00</td>\n",
       "      <td>2018-02-25 14:00:00</td>\n",
       "    </tr>\n",
       "    <tr>\n",
       "      <th>3</th>\n",
       "      <td>&lt;meteostat.interface.point.Point object at 0x0...</td>\n",
       "      <td>2018-02-25 14:00:00</td>\n",
       "      <td>2018-02-25 15:00:00</td>\n",
       "    </tr>\n",
       "    <tr>\n",
       "      <th>4</th>\n",
       "      <td>&lt;meteostat.interface.point.Point object at 0x0...</td>\n",
       "      <td>2018-02-25 18:00:00</td>\n",
       "      <td>2018-02-25 19:00:00</td>\n",
       "    </tr>\n",
       "  </tbody>\n",
       "</table>\n",
       "</div>"
      ],
      "text/plain": [
       "                                              Points           StartTime  \\\n",
       "0  <meteostat.interface.point.Point object at 0x0... 2018-02-24 21:00:00   \n",
       "1  <meteostat.interface.point.Point object at 0x0... 2018-02-24 21:00:00   \n",
       "2  <meteostat.interface.point.Point object at 0x0... 2018-02-25 13:00:00   \n",
       "3  <meteostat.interface.point.Point object at 0x0... 2018-02-25 14:00:00   \n",
       "4  <meteostat.interface.point.Point object at 0x0... 2018-02-25 18:00:00   \n",
       "\n",
       "              EndTime  \n",
       "0 2018-02-24 22:00:00  \n",
       "1 2018-02-24 22:00:00  \n",
       "2 2018-02-25 14:00:00  \n",
       "3 2018-02-25 15:00:00  \n",
       "4 2018-02-25 19:00:00  "
      ]
     },
     "metadata": {},
     "output_type": "display_data"
    }
   ],
   "source": [
    "dfHourlyData = pd.concat([dfPoints, weatherData[\"StartTime\"], weatherData[\"EndTime\"]], axis = 1)\n",
    "dfHourlyData = dfHourlyData.rename(columns = {0:\"Points\"})\n",
    "display(dfHourlyData.head())"
   ]
  },
  {
   "cell_type": "code",
   "execution_count": null,
   "id": "24de6ac1",
   "metadata": {
    "scrolled": false
   },
   "outputs": [],
   "source": [
    "weatherData[\"Weather\"]= dfHourlyData.apply(lambda x:meteostat.Hourly(x['Points'], x['StartTime'],x['StartTime']), axis = 1)\n",
    "display(weatherData.head())"
   ]
  },
  {
   "cell_type": "code",
   "execution_count": null,
   "id": "0ff624d5",
   "metadata": {
    "scrolled": true
   },
   "outputs": [],
   "source": [
    "maxIndex = len(weatherData[\"Weather\"])\n",
    "print(maxIndex)\n",
    "hourlyData = []\n",
    "z = 0\n",
    "for x in range(maxIndex):\n",
    "    hourlyData.append(weatherData[\"Weather\"][x].fetch())\n",
    "    z = z+1\n",
    "print(z)\n"
   ]
  },
  {
   "cell_type": "code",
   "execution_count": null,
   "id": "a5431d79",
   "metadata": {
    "scrolled": true
   },
   "outputs": [],
   "source": [
    "display(hourlyData[20])"
   ]
  },
  {
   "cell_type": "code",
   "execution_count": 41,
   "id": "4b81196a",
   "metadata": {},
   "outputs": [
    {
     "data": {
      "text/html": [
       "<div>\n",
       "<style scoped>\n",
       "    .dataframe tbody tr th:only-of-type {\n",
       "        vertical-align: middle;\n",
       "    }\n",
       "\n",
       "    .dataframe tbody tr th {\n",
       "        vertical-align: top;\n",
       "    }\n",
       "\n",
       "    .dataframe thead th {\n",
       "        text-align: right;\n",
       "    }\n",
       "</style>\n",
       "<table border=\"1\" class=\"dataframe\">\n",
       "  <thead>\n",
       "    <tr style=\"text-align: right;\">\n",
       "      <th></th>\n",
       "      <th>level_0</th>\n",
       "      <th>index</th>\n",
       "      <th>temp</th>\n",
       "      <th>dwpt</th>\n",
       "      <th>rhum</th>\n",
       "      <th>prcp</th>\n",
       "      <th>snow</th>\n",
       "      <th>wdir</th>\n",
       "      <th>wspd</th>\n",
       "      <th>wpgt</th>\n",
       "      <th>pres</th>\n",
       "      <th>tsun</th>\n",
       "      <th>coco</th>\n",
       "    </tr>\n",
       "  </thead>\n",
       "  <tbody>\n",
       "    <tr>\n",
       "      <th>0</th>\n",
       "      <td>0</td>\n",
       "      <td>1536080400000000000</td>\n",
       "      <td>25.8</td>\n",
       "      <td>17.2</td>\n",
       "      <td>59.0</td>\n",
       "      <td>NaN</td>\n",
       "      <td>NaN</td>\n",
       "      <td>70.0</td>\n",
       "      <td>11.2</td>\n",
       "      <td>NaN</td>\n",
       "      <td>1025.6</td>\n",
       "      <td>NaN</td>\n",
       "      <td>NaN</td>\n",
       "    </tr>\n",
       "    <tr>\n",
       "      <th>1</th>\n",
       "      <td>1</td>\n",
       "      <td>1627668000000000000</td>\n",
       "      <td>19.6</td>\n",
       "      <td>8.0</td>\n",
       "      <td>47.0</td>\n",
       "      <td>0.0</td>\n",
       "      <td>NaN</td>\n",
       "      <td>328.0</td>\n",
       "      <td>21.6</td>\n",
       "      <td>NaN</td>\n",
       "      <td>1016.4</td>\n",
       "      <td>NaN</td>\n",
       "      <td>2.0</td>\n",
       "    </tr>\n",
       "    <tr>\n",
       "      <th>2</th>\n",
       "      <td>2</td>\n",
       "      <td>1492556400000000000</td>\n",
       "      <td>5.0</td>\n",
       "      <td>-1.0</td>\n",
       "      <td>65.0</td>\n",
       "      <td>NaN</td>\n",
       "      <td>NaN</td>\n",
       "      <td>60.0</td>\n",
       "      <td>29.5</td>\n",
       "      <td>NaN</td>\n",
       "      <td>1027.2</td>\n",
       "      <td>NaN</td>\n",
       "      <td>NaN</td>\n",
       "    </tr>\n",
       "    <tr>\n",
       "      <th>3</th>\n",
       "      <td>3</td>\n",
       "      <td>1471492800000000000</td>\n",
       "      <td>22.2</td>\n",
       "      <td>19.0</td>\n",
       "      <td>82.0</td>\n",
       "      <td>NaN</td>\n",
       "      <td>NaN</td>\n",
       "      <td>80.0</td>\n",
       "      <td>9.4</td>\n",
       "      <td>NaN</td>\n",
       "      <td>1015.4</td>\n",
       "      <td>NaN</td>\n",
       "      <td>5.0</td>\n",
       "    </tr>\n",
       "    <tr>\n",
       "      <th>4</th>\n",
       "      <td>4</td>\n",
       "      <td>1405522800000000000</td>\n",
       "      <td>19.0</td>\n",
       "      <td>12.0</td>\n",
       "      <td>64.0</td>\n",
       "      <td>NaN</td>\n",
       "      <td>NaN</td>\n",
       "      <td>260.0</td>\n",
       "      <td>9.4</td>\n",
       "      <td>NaN</td>\n",
       "      <td>1011.3</td>\n",
       "      <td>NaN</td>\n",
       "      <td>NaN</td>\n",
       "    </tr>\n",
       "  </tbody>\n",
       "</table>\n",
       "</div>"
      ],
      "text/plain": [
       "   level_0                index  temp  dwpt  rhum  prcp  snow   wdir  wspd  \\\n",
       "0        0  1536080400000000000  25.8  17.2  59.0   NaN   NaN   70.0  11.2   \n",
       "1        1  1627668000000000000  19.6   8.0  47.0   0.0   NaN  328.0  21.6   \n",
       "2        2  1492556400000000000   5.0  -1.0  65.0   NaN   NaN   60.0  29.5   \n",
       "3        3  1471492800000000000  22.2  19.0  82.0   NaN   NaN   80.0   9.4   \n",
       "4        4  1405522800000000000  19.0  12.0  64.0   NaN   NaN  260.0   9.4   \n",
       "\n",
       "   wpgt    pres  tsun  coco  \n",
       "0   NaN  1025.6   NaN   NaN  \n",
       "1   NaN  1016.4   NaN   2.0  \n",
       "2   NaN  1027.2   NaN   NaN  \n",
       "3   NaN  1015.4   NaN   5.0  \n",
       "4   NaN  1011.3   NaN   NaN  "
      ]
     },
     "metadata": {},
     "output_type": "display_data"
    }
   ],
   "source": [
    "dfHourly = dfHourly.reset_index()\n",
    "display(dfHourly.head())"
   ]
  },
  {
   "cell_type": "code",
   "execution_count": 42,
   "id": "26a212b2",
   "metadata": {},
   "outputs": [],
   "source": [
    "dfHourly = dfHourly.drop(columns = {\"level_0\",\"index\",\"tsun\", \"coco\", \"pres\"})"
   ]
  },
  {
   "cell_type": "code",
   "execution_count": 45,
   "id": "69ff7cfb",
   "metadata": {
    "scrolled": true
   },
   "outputs": [
    {
     "data": {
      "text/html": [
       "<div>\n",
       "<style scoped>\n",
       "    .dataframe tbody tr th:only-of-type {\n",
       "        vertical-align: middle;\n",
       "    }\n",
       "\n",
       "    .dataframe tbody tr th {\n",
       "        vertical-align: top;\n",
       "    }\n",
       "\n",
       "    .dataframe thead th {\n",
       "        text-align: right;\n",
       "    }\n",
       "</style>\n",
       "<table border=\"1\" class=\"dataframe\">\n",
       "  <thead>\n",
       "    <tr style=\"text-align: right;\">\n",
       "      <th></th>\n",
       "      <th>temp</th>\n",
       "      <th>dwpt</th>\n",
       "      <th>rhum</th>\n",
       "      <th>prcp</th>\n",
       "      <th>snow</th>\n",
       "      <th>wdir</th>\n",
       "      <th>wspd</th>\n",
       "      <th>wpgt</th>\n",
       "    </tr>\n",
       "  </thead>\n",
       "  <tbody>\n",
       "    <tr>\n",
       "      <th>0</th>\n",
       "      <td>25.8</td>\n",
       "      <td>17.2</td>\n",
       "      <td>59.0</td>\n",
       "      <td>NaN</td>\n",
       "      <td>NaN</td>\n",
       "      <td>70.0</td>\n",
       "      <td>11.2</td>\n",
       "      <td>NaN</td>\n",
       "    </tr>\n",
       "    <tr>\n",
       "      <th>1</th>\n",
       "      <td>19.6</td>\n",
       "      <td>8.0</td>\n",
       "      <td>47.0</td>\n",
       "      <td>0.0</td>\n",
       "      <td>NaN</td>\n",
       "      <td>328.0</td>\n",
       "      <td>21.6</td>\n",
       "      <td>NaN</td>\n",
       "    </tr>\n",
       "    <tr>\n",
       "      <th>2</th>\n",
       "      <td>5.0</td>\n",
       "      <td>-1.0</td>\n",
       "      <td>65.0</td>\n",
       "      <td>NaN</td>\n",
       "      <td>NaN</td>\n",
       "      <td>60.0</td>\n",
       "      <td>29.5</td>\n",
       "      <td>NaN</td>\n",
       "    </tr>\n",
       "    <tr>\n",
       "      <th>3</th>\n",
       "      <td>22.2</td>\n",
       "      <td>19.0</td>\n",
       "      <td>82.0</td>\n",
       "      <td>NaN</td>\n",
       "      <td>NaN</td>\n",
       "      <td>80.0</td>\n",
       "      <td>9.4</td>\n",
       "      <td>NaN</td>\n",
       "    </tr>\n",
       "    <tr>\n",
       "      <th>4</th>\n",
       "      <td>19.0</td>\n",
       "      <td>12.0</td>\n",
       "      <td>64.0</td>\n",
       "      <td>NaN</td>\n",
       "      <td>NaN</td>\n",
       "      <td>260.0</td>\n",
       "      <td>9.4</td>\n",
       "      <td>NaN</td>\n",
       "    </tr>\n",
       "    <tr>\n",
       "      <th>5</th>\n",
       "      <td>17.9</td>\n",
       "      <td>15.7</td>\n",
       "      <td>87.0</td>\n",
       "      <td>0.0</td>\n",
       "      <td>NaN</td>\n",
       "      <td>166.0</td>\n",
       "      <td>12.6</td>\n",
       "      <td>NaN</td>\n",
       "    </tr>\n",
       "    <tr>\n",
       "      <th>6</th>\n",
       "      <td>6.2</td>\n",
       "      <td>-0.3</td>\n",
       "      <td>63.0</td>\n",
       "      <td>0.0</td>\n",
       "      <td>NaN</td>\n",
       "      <td>260.0</td>\n",
       "      <td>16.6</td>\n",
       "      <td>NaN</td>\n",
       "    </tr>\n",
       "  </tbody>\n",
       "</table>\n",
       "</div>"
      ],
      "text/plain": [
       "   temp  dwpt  rhum  prcp  snow   wdir  wspd  wpgt\n",
       "0  25.8  17.2  59.0   NaN   NaN   70.0  11.2   NaN\n",
       "1  19.6   8.0  47.0   0.0   NaN  328.0  21.6   NaN\n",
       "2   5.0  -1.0  65.0   NaN   NaN   60.0  29.5   NaN\n",
       "3  22.2  19.0  82.0   NaN   NaN   80.0   9.4   NaN\n",
       "4  19.0  12.0  64.0   NaN   NaN  260.0   9.4   NaN\n",
       "5  17.9  15.7  87.0   0.0   NaN  166.0  12.6   NaN\n",
       "6   6.2  -0.3  63.0   0.0   NaN  260.0  16.6   NaN"
      ]
     },
     "metadata": {},
     "output_type": "display_data"
    },
    {
     "name": "stdout",
     "output_type": "stream",
     "text": [
      "7\n"
     ]
    }
   ],
   "source": [
    "display(dfHourly)\n",
    "print(len(dfHourly))"
   ]
  },
  {
   "cell_type": "code",
   "execution_count": null,
   "id": "56776233",
   "metadata": {},
   "outputs": [],
   "source": [
    "#remove hourly stats"
   ]
  },
  {
   "cell_type": "code",
   "execution_count": 39,
   "id": "9202e0e3",
   "metadata": {},
   "outputs": [],
   "source": [
    "weatherData.to_csv(\"Weather.csv\")"
   ]
  },
  {
   "cell_type": "code",
   "execution_count": 97,
   "id": "21709c27",
   "metadata": {},
   "outputs": [],
   "source": [
    "# problems: requesting data dropped some data from api\n",
    "# the time range ie) 10 mins before + 10 mins after or?\n",
    "# need to add comments\n",
    "# cannot identify which fires are which anymore because of the change in times\n",
    "#drop coco, tsun, pres"
   ]
  },
  {
   "cell_type": "code",
   "execution_count": null,
   "id": "0cb323bd",
   "metadata": {},
   "outputs": [],
   "source": []
  }
 ],
 "metadata": {
  "kernelspec": {
   "display_name": "Python 3 (ipykernel)",
   "language": "python",
   "name": "python3"
  },
  "language_info": {
   "codemirror_mode": {
    "name": "ipython",
    "version": 3
   },
   "file_extension": ".py",
   "mimetype": "text/x-python",
   "name": "python",
   "nbconvert_exporter": "python",
   "pygments_lexer": "ipython3",
   "version": "3.9.13"
  }
 },
 "nbformat": 4,
 "nbformat_minor": 5
}
