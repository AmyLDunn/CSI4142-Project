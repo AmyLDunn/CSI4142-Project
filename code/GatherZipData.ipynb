{
 "cells": [
  {
   "cell_type": "code",
   "execution_count": 17,
   "id": "7d3d0f9e",
   "metadata": {},
   "outputs": [],
   "source": [
    "import geopy\n",
    "import pandas as pd"
   ]
  },
  {
   "cell_type": "code",
   "execution_count": 23,
   "id": "b7111403",
   "metadata": {},
   "outputs": [],
   "source": [
    "df = pd.read_csv(\"../raw_data/fire_incidents_data.csv\")"
   ]
  },
  {
   "cell_type": "code",
   "execution_count": 24,
   "id": "ef44fead",
   "metadata": {},
   "outputs": [
    {
     "data": {
      "text/html": [
       "<div>\n",
       "<style scoped>\n",
       "    .dataframe tbody tr th:only-of-type {\n",
       "        vertical-align: middle;\n",
       "    }\n",
       "\n",
       "    .dataframe tbody tr th {\n",
       "        vertical-align: top;\n",
       "    }\n",
       "\n",
       "    .dataframe thead th {\n",
       "        text-align: right;\n",
       "    }\n",
       "</style>\n",
       "<table border=\"1\" class=\"dataframe\">\n",
       "  <thead>\n",
       "    <tr style=\"text-align: right;\">\n",
       "      <th></th>\n",
       "      <th>Latitude</th>\n",
       "      <th>Longitude</th>\n",
       "    </tr>\n",
       "  </thead>\n",
       "  <tbody>\n",
       "    <tr>\n",
       "      <th>0</th>\n",
       "      <td>43.686558</td>\n",
       "      <td>-79.599419</td>\n",
       "    </tr>\n",
       "    <tr>\n",
       "      <th>1</th>\n",
       "      <td>43.766135</td>\n",
       "      <td>-79.390039</td>\n",
       "    </tr>\n",
       "    <tr>\n",
       "      <th>2</th>\n",
       "      <td>43.743230</td>\n",
       "      <td>-79.245061</td>\n",
       "    </tr>\n",
       "    <tr>\n",
       "      <th>3</th>\n",
       "      <td>43.708659</td>\n",
       "      <td>-79.478062</td>\n",
       "    </tr>\n",
       "    <tr>\n",
       "      <th>4</th>\n",
       "      <td>43.718118</td>\n",
       "      <td>-79.443184</td>\n",
       "    </tr>\n",
       "    <tr>\n",
       "      <th>...</th>\n",
       "      <td>...</td>\n",
       "      <td>...</td>\n",
       "    </tr>\n",
       "    <tr>\n",
       "      <th>25855</th>\n",
       "      <td>43.731133</td>\n",
       "      <td>-79.607765</td>\n",
       "    </tr>\n",
       "    <tr>\n",
       "      <th>25856</th>\n",
       "      <td>43.746315</td>\n",
       "      <td>-79.588165</td>\n",
       "    </tr>\n",
       "    <tr>\n",
       "      <th>25857</th>\n",
       "      <td>43.657067</td>\n",
       "      <td>-79.374567</td>\n",
       "    </tr>\n",
       "    <tr>\n",
       "      <th>25858</th>\n",
       "      <td>43.663052</td>\n",
       "      <td>-79.402109</td>\n",
       "    </tr>\n",
       "    <tr>\n",
       "      <th>25859</th>\n",
       "      <td>43.749227</td>\n",
       "      <td>-79.510449</td>\n",
       "    </tr>\n",
       "  </tbody>\n",
       "</table>\n",
       "<p>25860 rows × 2 columns</p>\n",
       "</div>"
      ],
      "text/plain": [
       "        Latitude  Longitude\n",
       "0      43.686558 -79.599419\n",
       "1      43.766135 -79.390039\n",
       "2      43.743230 -79.245061\n",
       "3      43.708659 -79.478062\n",
       "4      43.718118 -79.443184\n",
       "...          ...        ...\n",
       "25855  43.731133 -79.607765\n",
       "25856  43.746315 -79.588165\n",
       "25857  43.657067 -79.374567\n",
       "25858  43.663052 -79.402109\n",
       "25859  43.749227 -79.510449\n",
       "\n",
       "[25860 rows x 2 columns]"
      ]
     },
     "metadata": {},
     "output_type": "display_data"
    }
   ],
   "source": [
    "dfLoc = pd.concat([df[\"Latitude\"], df[\"Longitude\"]], axis = 1)\n",
    "display(dfLoc)"
   ]
  },
  {
   "cell_type": "code",
   "execution_count": 25,
   "id": "97384721",
   "metadata": {},
   "outputs": [],
   "source": [
    "def get_zipcode(df, geolocator, lat_field, lon_field):\n",
    "    location = geolocator.reverse((df[lat_field], df[lon_field]))\n",
    "    return location.raw['address']['postcode']"
   ]
  },
  {
   "cell_type": "code",
   "execution_count": null,
   "id": "5d972603",
   "metadata": {},
   "outputs": [],
   "source": [
    "geolocator = geopy.Nominatim(user_agent='put your email address here')\n",
    "\n",
    "zipcodes = df.apply(get_zipcode, axis=1, geolocator=geolocator, lat_field='Latitude', lon_field='Longitude')"
   ]
  },
  {
   "cell_type": "code",
   "execution_count": null,
   "id": "e10dce4f",
   "metadata": {},
   "outputs": [],
   "source": [
    "display(zipcodes)"
   ]
  },
  {
   "cell_type": "code",
   "execution_count": null,
   "id": "b19593ab",
   "metadata": {},
   "outputs": [],
   "source": []
  },
  {
   "cell_type": "code",
   "execution_count": null,
   "id": "8ec3a111",
   "metadata": {},
   "outputs": [],
   "source": []
  }
 ],
 "metadata": {
  "kernelspec": {
   "display_name": "Python 3 (ipykernel)",
   "language": "python",
   "name": "python3"
  },
  "language_info": {
   "codemirror_mode": {
    "name": "ipython",
    "version": 3
   },
   "file_extension": ".py",
   "mimetype": "text/x-python",
   "name": "python",
   "nbconvert_exporter": "python",
   "pygments_lexer": "ipython3",
   "version": "3.9.13"
  }
 },
 "nbformat": 4,
 "nbformat_minor": 5
}
