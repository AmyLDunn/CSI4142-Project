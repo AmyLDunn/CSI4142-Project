{
 "cells": [
  {
   "cell_type": "code",
   "execution_count": 72,
   "id": "ca0df3e1",
   "metadata": {},
   "outputs": [
    {
     "name": "stdout",
     "output_type": "stream",
     "text": [
      "total number of unique latitudes and longitudes: 25860\n"
     ]
    }
   ],
   "source": [
    "import pandas as pd\n",
    "import requests\n",
    "import json\n",
    "from matplotlib import pyplot as plt\n",
    "\n",
    "df = pd.read_csv(\"FID.csv\", sep=',')\n",
    "lat = df[\"Latitude\"]\n",
    "long = df[\"Longitude\"]\n",
    "values = len(lat)\n",
    "\n",
    "def findMaxDec():\n",
    "    max = 1\n",
    "    print(\".41231321\"[::-1].find(\".\"))\n",
    "    for _,w in lat.items():\n",
    "        val= str(w)[::-1].find(\".\")\n",
    "        if(max<val):\n",
    "            max = val\n",
    "    print(max)\n",
    "    \n",
    "print(\"total number of latitudes and longitudes: \"+str(values))\n",
    "x = lat.array\n",
    "y = long.array\n",
    "\n",
    "# plt.rcParams[\"figure.figsize\"] = [10,10]\n",
    "# plt.ylim(min(y), max(y))\n",
    "# plt.scatter(x, y)\n",
    "# plt.show()\n"
   ]
  },
  {
   "cell_type": "code",
   "execution_count": 71,
   "id": "2b76cbec",
   "metadata": {},
   "outputs": [
    {
     "name": "stdout",
     "output_type": "stream",
     "text": [
      "Unique intersection longitudes and latitudes: 14505\n"
     ]
    }
   ],
   "source": [
    "def findUnique():\n",
    "    unique = []\n",
    "    for val in range(len(x)):\n",
    "        if not((x[val], y[val]) in unique):\n",
    "            unique.append((x[val],y[val]))\n",
    "    print(\"Unique intersection longitudes and latitudes: \"+str(len(unique)))\n",
    "                    \n",
    "findUnique()"
   ]
  },
  {
   "cell_type": "code",
   "execution_count": null,
   "id": "77092bc1",
   "metadata": {},
   "outputs": [],
   "source": []
  }
 ],
 "metadata": {
  "kernelspec": {
   "display_name": "Python 3 (ipykernel)",
   "language": "python",
   "name": "python3"
  },
  "language_info": {
   "codemirror_mode": {
    "name": "ipython",
    "version": 3
   },
   "file_extension": ".py",
   "mimetype": "text/x-python",
   "name": "python",
   "nbconvert_exporter": "python",
   "pygments_lexer": "ipython3",
   "version": "3.9.13"
  }
 },
 "nbformat": 4,
 "nbformat_minor": 5
}
